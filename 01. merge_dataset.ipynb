{
 "cells": [
  {
   "cell_type": "markdown",
   "id": "0f170ea5",
   "metadata": {},
   "source": [
    "## 01. 라이브러리 로드"
   ]
  },
  {
   "cell_type": "code",
   "execution_count": 1,
   "id": "1d03fac3",
   "metadata": {},
   "outputs": [],
   "source": [
    "import pandas as pd\n",
    "import numpy as np"
   ]
  },
  {
   "cell_type": "markdown",
   "id": "a6e73f27",
   "metadata": {},
   "source": [
    "## 02. ifrs 데이터 로드\n",
    "- ts2000 기반 데이터\n",
    "    - ifrs_df1 : ifrs_연결 데이터\n",
    "    - ifrs_df2 : ifrs_별도 데이터"
   ]
  },
  {
   "cell_type": "code",
   "execution_count": 2,
   "id": "0b2a35f7",
   "metadata": {},
   "outputs": [],
   "source": [
    "ifrs_df1 = pd.read_excel(\"data/ts2000/ifrs_연결.xlsx\", dtype={'거래소코드': str})\n",
    "ifrs_df2 = pd.read_excel(\"data/ts2000/ifrs_별도.xlsx\", dtype={'거래소코드': str})"
   ]
  },
  {
   "cell_type": "markdown",
   "id": "048118b3",
   "metadata": {},
   "source": [
    "#### ifrs_df1과 ifrs_df2를 결합시키기 위한 컬럼명 재정의"
   ]
  },
  {
   "cell_type": "code",
   "execution_count": 3,
   "id": "1515a6a9",
   "metadata": {},
   "outputs": [],
   "source": [
    "ifrs_df1.rename(columns={'* 발행한 주식총수(*)(IFRS연결)(천원)': '* 발행한 주식총수(*)(IFRS연결)'}, inplace=True)\n",
    "ifrs_df1.rename(columns={'EBITDA(IFRS)(백만원)': 'EBITDA(IFRS연결)(백만원)'}, inplace=True)\n",
    "ifrs_df2.rename(columns={'* 발행한 주식총수(*)(IFRS)(주)': '* 발행한 주식총수(*)(IFRS)'}, inplace=True)"
   ]
  },
  {
   "cell_type": "markdown",
   "id": "7a670a2e",
   "metadata": {},
   "source": [
    "#### 회계년도가 12월이 아닌 데이터 삭제"
   ]
  },
  {
   "cell_type": "code",
   "execution_count": 4,
   "id": "913f448d",
   "metadata": {},
   "outputs": [],
   "source": [
    "ifrs_df1 = ifrs_df1[ifrs_df1['회계년도'].str.endswith('/12')]\n",
    "ifrs_df2 = ifrs_df2[ifrs_df2['회계년도'].str.endswith('/12')]"
   ]
  },
  {
   "cell_type": "markdown",
   "id": "59b8f56e",
   "metadata": {},
   "source": [
    "#### ifrs_df1과 ifrs_df2를 결합시키기 위해 접미사 제거 (unify_columns 함수 사용)"
   ]
  },
  {
   "cell_type": "code",
   "execution_count": 5,
   "id": "2aed3e39",
   "metadata": {},
   "outputs": [],
   "source": [
    "key_cols = ['회사명', '거래소코드', '회계년도']\n",
    "\n",
    "def unify_columns(df, suffix_to_remove):\n",
    "    df = df.copy()\n",
    "    df.columns = [col.replace(suffix_to_remove, '') if col not in key_cols else col for col in df.columns]\n",
    "    return df\n",
    "\n",
    "ifrs_df1_clean = unify_columns(ifrs_df1, '(IFRS연결)')\n",
    "ifrs_df2_clean = unify_columns(ifrs_df2, '(IFRS)')\n",
    "\n",
    "ifrs_df = ifrs_df1_clean.copy()\n",
    "for col in ifrs_df1_clean.columns:\n",
    "    if col not in key_cols and col in ifrs_df2_clean.columns:\n",
    "        ifrs_df[col] = ifrs_df1_clean[col].fillna(ifrs_df2_clean[col])"
   ]
  },
  {
   "cell_type": "markdown",
   "id": "b9d5fe03",
   "metadata": {},
   "source": [
    "#### 파생변수 생성\n",
    "- 자산_평균 : 데이터의 시차를 맞추기 위해 전년도 값과 이번년도 값의 평균값 사용\n",
    "- 자본_평균 : 데이터의 시차를 맞추기 위해 전년도 값과 이번년도 값의 평균값 사용"
   ]
  },
  {
   "cell_type": "code",
   "execution_count": 6,
   "id": "7437fc62",
   "metadata": {},
   "outputs": [],
   "source": [
    "ifrs_df['자산_평균'] = ifrs_df.groupby('거래소코드')['자산(*)(천원)'].transform(lambda x: (x + x.shift(1)) / 2)\n",
    "ifrs_df['자본_평균'] = ifrs_df.groupby('거래소코드')['자본(*)(천원)'].transform(lambda x: (x + x.shift(1)) / 2)"
   ]
  },
  {
   "cell_type": "markdown",
   "id": "fc53b507",
   "metadata": {},
   "source": [
    "#### 거래소코드와 회계년도를 기준으로 중복 행 삭제 (keep = 'first' 를 사용하여 첫번째 행 살리기)"
   ]
  },
  {
   "cell_type": "code",
   "execution_count": 7,
   "id": "0b92341b",
   "metadata": {},
   "outputs": [
    {
     "name": "stdout",
     "output_type": "stream",
     "text": [
      "(30018, 38)\n"
     ]
    }
   ],
   "source": [
    "ifrs_df = ifrs_df.drop_duplicates(subset=['거래소코드', '회계년도'], keep='first')\n",
    "print(ifrs_df.shape)"
   ]
  },
  {
   "cell_type": "markdown",
   "id": "8dbbc839",
   "metadata": {},
   "source": [
    "## 02. gaap 데이터 로드\n",
    "- ts2000 기반 데이터\n",
    "    - gaap_df1 : gaap_연결 데이터\n",
    "    - gaap_df2 : gaap_별도 데이터\n",
    "- ifrs 연결재무재표를 기준으로 하나 ifrs재무재표에 없는 컬럼들의 값을 위해 gaap데이터 로드"
   ]
  },
  {
   "cell_type": "code",
   "execution_count": 8,
   "id": "41e6e552",
   "metadata": {},
   "outputs": [],
   "source": [
    "gaap_df1 = pd.read_excel(\"data/ts2000/gaap_연결.xlsx\", dtype={'거래소코드': str})\n",
    "gaap_df2 = pd.read_excel(\"data/ts2000/gaap_별도.xlsx\", dtype={'거래소코드': str})"
   ]
  },
  {
   "cell_type": "code",
   "execution_count": 9,
   "id": "66e65ed8",
   "metadata": {},
   "outputs": [],
   "source": [
    "gaap_df1 = gaap_df1[gaap_df1['회계년도'].str.endswith('/12')]\n",
    "gaap_df2 = gaap_df2[gaap_df2['회계년도'].str.endswith('/12')]"
   ]
  },
  {
   "cell_type": "code",
   "execution_count": 10,
   "id": "f0db2aa3",
   "metadata": {},
   "outputs": [],
   "source": [
    "key_cols = ['회사명', '거래소코드', '회계년도']\n",
    "\n",
    "def unify_columns(df, suffix_to_remove):\n",
    "    df = df.copy()\n",
    "    df.columns = [col.replace(suffix_to_remove, '') if col not in key_cols else col for col in df.columns]\n",
    "    return df\n",
    "\n",
    "gaap_df1_clean = unify_columns(gaap_df1, '(연결)')\n",
    "\n",
    "gaap_df = gaap_df1_clean.copy()\n",
    "for col in gaap_df1_clean.columns:\n",
    "    if col not in key_cols and col in gaap_df2.columns:\n",
    "        gaap_df[col] = gaap_df1_clean[col].fillna(gaap_df2[col])"
   ]
  },
  {
   "cell_type": "code",
   "execution_count": 11,
   "id": "361ae5cc",
   "metadata": {},
   "outputs": [],
   "source": [
    "gaap_df['자산_평균'] = gaap_df.groupby('거래소코드')['자산(*)(천원)'].transform(lambda x: (x + x.shift(1)) / 2)\n",
    "gaap_df['자본_평균'] = gaap_df.groupby('거래소코드')['자본(*)(천원)'].transform(lambda x: (x + x.shift(1)) / 2)"
   ]
  },
  {
   "cell_type": "code",
   "execution_count": 12,
   "id": "94089bcf",
   "metadata": {},
   "outputs": [
    {
     "name": "stdout",
     "output_type": "stream",
     "text": [
      "(30018, 38)\n"
     ]
    }
   ],
   "source": [
    "gaap_df = gaap_df.drop_duplicates(subset=['거래소코드', '회계년도'], keep='first')\n",
    "print(gaap_df.shape)"
   ]
  },
  {
   "cell_type": "markdown",
   "id": "74f742bf",
   "metadata": {},
   "source": [
    "#### ifrs_df와 gaap_df를 결합시키기 위해 컬럼명 재정의"
   ]
  },
  {
   "cell_type": "code",
   "execution_count": 13,
   "id": "b48d0032",
   "metadata": {},
   "outputs": [],
   "source": [
    "ifrs_df.rename(columns={'영업활동으로 인한 현금흐름(간접법)(*)(천원)': '영업활동으로 인한 현금흐름(*)(천원)'}, inplace=True)\n",
    "ifrs_df.rename(columns={'기말이익잉여금(결손금)(*)(천원)': '이익잉여금(결손금)(*)(천원)'}, inplace=True)\n",
    "ifrs_df.rename(columns={'* (정상)영업손익(보고서기재)(천원)': '영업이익(손실)(천원)'}, inplace=True)\n",
    "ifrs_df.rename(columns={'* 발행한 주식총수(*)': '발행주식수(*)(주)'}, inplace=True)\n",
    "ifrs_df.rename(columns={'EBITDA(IFRS)(백만원)': 'EBITDA(백만원)'}, inplace=True)\n",
    "gaap_df.rename(columns={'매출액(영업수익)(*)(천원)': '매출액(수익)(*)(천원)'}, inplace=True)\n",
    "gaap_df.rename(columns={'영업이익증가율': '정상영업이익증가율'}, inplace=True)\n",
    "gaap_df.rename(columns={'영업이익증가율': '기말이익잉여금(결손금)(*)(천원)'}, inplace=True)\n",
    "gaap_df.rename(columns={'당기순이익(순손실)(천원)': '당기순이익(손실)(천원)'}, inplace=True)"
   ]
  },
  {
   "cell_type": "markdown",
   "id": "9465517e",
   "metadata": {},
   "source": [
    "#### ifrs_df와 gaap_df 결합\n",
    "- ifrs 위주로  gaap 데이터로 결측치 보완"
   ]
  },
  {
   "cell_type": "code",
   "execution_count": 14,
   "id": "cf466269",
   "metadata": {},
   "outputs": [
    {
     "name": "stdout",
     "output_type": "stream",
     "text": [
      "(30018, 38)\n"
     ]
    }
   ],
   "source": [
    "# 공통 key 컬럼 지정\n",
    "key_cols = ['회사명', '거래소코드', '회계년도']\n",
    "\n",
    "# 1. IFRS + GAAP 병합\n",
    "ts_df = pd.merge(ifrs_df, gaap_df, on=key_cols, how='left', suffixes=('', '_gaap'))\n",
    "\n",
    "# 2. 결측치 보완: ifrs 값이 결측이면 gaap 값으로 채움\n",
    "for col in ifrs_df.columns:\n",
    "    if col in key_cols:\n",
    "        continue\n",
    "    gaap_col = f\"{col}_gaap\"\n",
    "    if gaap_col in ts_df.columns:\n",
    "        ts_df[col] = ts_df[col].fillna(ts_df[gaap_col])\n",
    "\n",
    "# 3. GAAP 보조 컬럼 제거\n",
    "ts_df = ts_df[ifrs_df.columns]\n",
    "print(ts_df.shape)"
   ]
  },
  {
   "cell_type": "code",
   "execution_count": 120,
   "id": "81646574",
   "metadata": {},
   "outputs": [
    {
     "data": {
      "text/plain": [
       "외국인_주식분포비율               5380\n",
       "자본_평균                    3097\n",
       "자산_평균                    3097\n",
       "EBITDA(백만원)              1132\n",
       "당좌비율                      986\n",
       "매출액증가율                    986\n",
       "정상영업이익증가율                 986\n",
       "총자본증가율                    986\n",
       "총자본회전률                    986\n",
       "자기자본회전률                   986\n",
       "재고자산회전률                   986\n",
       "자기자본구성비율                  986\n",
       "순이익증가율                    986\n",
       "차입금의존도                    986\n",
       "총자본순이익률                   986\n",
       "이자보상배율(이자비용)              986\n",
       "매출원가 대 매출액비율              986\n",
       "투자활동으로 인한 현금흐름(*)(천원)     251\n",
       "이익잉여금(결손금)(*)(천원)         251\n",
       "발행주식수(*)(주)               251\n",
       "자산(*)(천원)                 251\n",
       "자본(*)(천원)                 251\n",
       "당기순이익(손실)(천원)             251\n",
       "영업이익(손실)(천원)              251\n",
       "영업활동으로 인한 현금흐름(*)(천원)     251\n",
       "부채(*)(천원)                 251\n",
       "매출액(수익)(*)(천원)            251\n",
       "유동부채(*)(천원)               251\n",
       "재고자산(*)(천원)               251\n",
       "유동자산(*)(천원)               251\n",
       "비유동자산(*)(천원)              251\n",
       "재무활동으로 인한 현금흐름(*)(천원)     251\n",
       "설립일                         0\n",
       "거래소코드                       0\n",
       "산업코드                        0\n",
       "산업명                         0\n",
       "회계년도                        0\n",
       "회사명                         0\n",
       "dtype: int64"
      ]
     },
     "execution_count": 120,
     "metadata": {},
     "output_type": "execute_result"
    }
   ],
   "source": [
    "ts_df.isna().sum().sort_values(ascending=False)"
   ]
  },
  {
   "cell_type": "markdown",
   "id": "06f0874d",
   "metadata": {},
   "source": [
    "## 04. 결측치 처리 및 0 처리\n",
    "- 외국인_주식분포비율 : 합친 후에도 결측치가 많으므로 제거\n",
    "- 이자보상배율(이자비용)과 투자활동으로 인한 현금흐름(*)(천원) : 프로젝트에 y값에 해당함으로 결측치이면 분석이 안됨으로 제거\n",
    "- y값이 2년연속이 필요함으로 회계년도 기준 연속으로 찍히지 않는 거래소코드 리스트 추출 후 제거\n",
    "- 매출액증가율 : 거래소코드마다 median 값으로 대체\n",
    "- 자산_평균, 자본_평균 : 결측치 처리 위해 이전값과 이후값으로 대체"
   ]
  },
  {
   "cell_type": "code",
   "execution_count": 63,
   "id": "f03aa288",
   "metadata": {},
   "outputs": [],
   "source": [
    "ts_df = ts_df.drop(columns=['외국인_주식분포비율'])"
   ]
  },
  {
   "cell_type": "code",
   "execution_count": 64,
   "id": "068c8124",
   "metadata": {},
   "outputs": [],
   "source": [
    "ts_df = ts_df.dropna(subset=['이자보상배율(이자비용)', '투자활동으로 인한 현금흐름(*)(천원)'])"
   ]
  },
  {
   "cell_type": "code",
   "execution_count": 65,
   "id": "849f9f72",
   "metadata": {},
   "outputs": [],
   "source": [
    "# 회계년도 기준 연속으로 찍히지 않는 거래소코드 뽑은 코드\n",
    "code_tuples = [('418420 ',), ('439090 ',), ('201490 ',), ('314930 ',), ('199730 ',), ('138580 ',), ('107600 ',), \n",
    "               ('331920 ',), ('290520 ',), ('088280 ',), ('124500 ',), ('158430 ',), ('179530 ',), ('443670 ',), \n",
    "               ('241840 ',), ('227950 ',), ('259630 ',), ('036220 ',), ('011330 ',), ('206650 ',), ('424870 ',), \n",
    "               ('160600 ',), ('311320 ',), ('261780 ',), ('402030 ',), ('131100 ',), ('440110 ',), ('208340 ',), \n",
    "               ('304840 ',), ('457370 ',), ('086250 ',), ('463480 ',), ('089970 ',), ('024850 ',), ('226590 ',), \n",
    "               ('101970 ',), ('396470 ',), ('068100 ',)]\n",
    "\n",
    "# 공백 포함한 거래소코드 리스트 추출\n",
    "codes_to_remove = [code[0] for code in code_tuples]"
   ]
  },
  {
   "cell_type": "code",
   "execution_count": 66,
   "id": "14fd9816",
   "metadata": {},
   "outputs": [
    {
     "name": "stdout",
     "output_type": "stream",
     "text": [
      "(28738, 37)\n"
     ]
    }
   ],
   "source": [
    "# 위에 코드 기준에서 뽑은 거래소코드 제거\n",
    "ts_df = ts_df[~ts_df['거래소코드'].isin(codes_to_remove)]\n",
    "print(ts_df.shape)"
   ]
  },
  {
   "cell_type": "markdown",
   "id": "9e0d0704",
   "metadata": {},
   "source": [
    "#### 매출액증가율 0 처리\n",
    "- 매출액증가율 컬럼이 0이 많고 중요한 컬럼이기에 각 거래소코드마다 median값으로 대체"
   ]
  },
  {
   "cell_type": "code",
   "execution_count": 67,
   "id": "2fc265ab",
   "metadata": {},
   "outputs": [],
   "source": [
    "# 보간 실패 시 median으로 fallback\n",
    "for 거래소코드 in ts_df['거래소코드'].unique():\n",
    "    mask = ts_df['거래소코드'] == 거래소코드\n",
    "    original_na_mask = ts_df.loc[mask, '매출액증가율'].isna()\n",
    "    \n",
    "    # 0이 아닌 유효한 값들의 median 계산\n",
    "    valid_values = ts_df.loc[mask & ~original_na_mask & (ts_df['매출액증가율'] != 0), '매출액증가율']\n",
    "    \n",
    "    if len(valid_values) > 0:\n",
    "        median_val = valid_values.median()\n",
    "        # 0인 값만 median으로 대체\n",
    "        ts_df.loc[mask & (ts_df['매출액증가율'] == 0), '매출액증가율'] = median_val"
   ]
  },
  {
   "cell_type": "code",
   "execution_count": 68,
   "id": "2fea78b7",
   "metadata": {},
   "outputs": [
    {
     "name": "stdout",
     "output_type": "stream",
     "text": [
      "매출액증가율이 0인 행의 개수: 81\n"
     ]
    }
   ],
   "source": [
    "zero_count = (ts_df['매출액증가율'] == 0).sum()\n",
    "print(f\"매출액증가율이 0인 행의 개수: {zero_count}\")"
   ]
  },
  {
   "cell_type": "markdown",
   "id": "af5147a0",
   "metadata": {},
   "source": [
    "#### 2013 ~ 2023 까지 분석에 사용함으로 회계년도가 2011/12와 2012/12인 행 제거 "
   ]
  },
  {
   "cell_type": "code",
   "execution_count": 122,
   "id": "f74be8e0",
   "metadata": {},
   "outputs": [
    {
     "name": "stdout",
     "output_type": "stream",
     "text": [
      "(25913, 38)\n"
     ]
    }
   ],
   "source": [
    "ts_df = ts_df[~ts_df['회계년도'].isin(['2011/12', '2012/12'])]\n",
    "print(ts_df.shape)"
   ]
  },
  {
   "cell_type": "markdown",
   "id": "8cf5eff1",
   "metadata": {},
   "source": [
    "#### 자산_평균과 자본_평균 널값 이전값이나 이후값으로 처리"
   ]
  },
  {
   "cell_type": "code",
   "execution_count": 70,
   "id": "fce689e4",
   "metadata": {},
   "outputs": [],
   "source": [
    "ts_df['자산_평균'] = ts_df.groupby(['회사명', '거래소코드'])['자산_평균'].transform(lambda x: x.bfill().ffill())\n",
    "ts_df['자본_평균'] = ts_df.groupby(['회사명', '거래소코드'])['자본_평균'].transform(lambda x: x.bfill().ffill())"
   ]
  },
  {
   "cell_type": "markdown",
   "id": "677bedc0",
   "metadata": {},
   "source": [
    "#### 널값 처리 후에도 자산_평균, 자본_평균 널값인 회사들은 데이터가 1년만 존재하는 기업이기에 제거"
   ]
  },
  {
   "cell_type": "code",
   "execution_count": 71,
   "id": "67bf1d68",
   "metadata": {},
   "outputs": [
    {
     "name": "stdout",
     "output_type": "stream",
     "text": [
      "(24782, 37)\n"
     ]
    }
   ],
   "source": [
    "# 데이터가 1년만 존재하는 기업이기에 자산_평균, 자본_평균 데이터 드랍\n",
    "ts_df = ts_df.dropna(subset=['자산_평균'])\n",
    "ts_df = ts_df.dropna(subset=['자본_평균'])\n",
    "print(ts_df.shape)"
   ]
  },
  {
   "cell_type": "code",
   "execution_count": 72,
   "id": "0a4282b1",
   "metadata": {},
   "outputs": [
    {
     "data": {
      "text/plain": [
       "EBITDA(백만원)              122\n",
       "회사명                        0\n",
       "영업이익(손실)(천원)               0\n",
       "비유동자산(*)(천원)               0\n",
       "유동자산(*)(천원)                0\n",
       "재고자산(*)(천원)                0\n",
       "유동부채(*)(천원)                0\n",
       "이익잉여금(결손금)(*)(천원)          0\n",
       "부채(*)(천원)                  0\n",
       "당기순이익(손실)(천원)              0\n",
       "순이익증가율                     0\n",
       "자본(*)(천원)                  0\n",
       "설립일                        0\n",
       "발행주식수(*)(주)                0\n",
       "산업코드                       0\n",
       "산업명                        0\n",
       "자산_평균                      0\n",
       "매출액증가율                     0\n",
       "정상영업이익증가율                  0\n",
       "거래소코드                      0\n",
       "총자본증가율                     0\n",
       "회계년도                       0\n",
       "이자보상배율(이자비용)               0\n",
       "매출원가 대 매출액비율               0\n",
       "총자본순이익률                    0\n",
       "영업활동으로 인한 현금흐름(*)(천원)      0\n",
       "투자활동으로 인한 현금흐름(*)(천원)      0\n",
       "재무활동으로 인한 현금흐름(*)(천원)      0\n",
       "자산(*)(천원)                  0\n",
       "매출액(수익)(*)(천원)             0\n",
       "차입금의존도                     0\n",
       "당좌비율                       0\n",
       "자기자본구성비율                   0\n",
       "재고자산회전률                    0\n",
       "자기자본회전률                    0\n",
       "총자본회전률                     0\n",
       "자본_평균                      0\n",
       "dtype: int64"
      ]
     },
     "execution_count": 72,
     "metadata": {},
     "output_type": "execute_result"
    }
   ],
   "source": [
    "ts_df.isna().sum().sort_values(ascending=False)"
   ]
  },
  {
   "cell_type": "markdown",
   "id": "52e8ffb2",
   "metadata": {},
   "source": [
    "## 06. 데이터 결합 - ts 2000데이터가 기준이므로 left 조인\n",
    "- 시가총액 데이터와 결합"
   ]
  },
  {
   "cell_type": "markdown",
   "id": "152c32aa",
   "metadata": {},
   "source": [
    "#### 시가총액 데이터 로드"
   ]
  },
  {
   "cell_type": "code",
   "execution_count": 73,
   "id": "384bff81",
   "metadata": {},
   "outputs": [],
   "source": [
    "rtn_df = pd.read_excel('data/krx/시가총액.xlsx', dtype={'거래소코드': str})\n",
    "rtn_df['거래소코드'] = rtn_df['거래소코드'].str.ljust(7)"
   ]
  },
  {
   "cell_type": "markdown",
   "id": "b2e960ce",
   "metadata": {},
   "source": [
    "#### ts2000에 데이터들의 단위가 천원 단위이므로 단위 맞추고 krx에 가져온 데이터이므로 회사명이 달라 제거"
   ]
  },
  {
   "cell_type": "code",
   "execution_count": 74,
   "id": "c5a65965",
   "metadata": {},
   "outputs": [
    {
     "name": "stdout",
     "output_type": "stream",
     "text": [
      "(28457, 3)\n"
     ]
    }
   ],
   "source": [
    "rtn_df['시가총액(천원)'] = rtn_df['시가총액'] // 1000\n",
    "rtn_df = rtn_df.drop(columns=['시가총액'])\n",
    "rtn_df = rtn_df.drop(columns=['회사명'])\n",
    "print(rtn_df.shape)"
   ]
  },
  {
   "cell_type": "code",
   "execution_count": 75,
   "id": "da2e60e4",
   "metadata": {},
   "outputs": [
    {
     "name": "stdout",
     "output_type": "stream",
     "text": [
      "(24782, 38)\n"
     ]
    }
   ],
   "source": [
    "merged_df1 = pd.merge(ts_df, rtn_df, on=['거래소코드', '회계년도'], how='left')\n",
    "print(merged_df1.shape)"
   ]
  },
  {
   "cell_type": "markdown",
   "id": "4080489a",
   "metadata": {},
   "source": [
    "#### 상장 전인 기업들의 시가총액은 같은 행에 있는 자산(*)(천원)의 값으로 대체"
   ]
  },
  {
   "cell_type": "code",
   "execution_count": 76,
   "id": "66bc0f08",
   "metadata": {},
   "outputs": [],
   "source": [
    "merged_df1['시가총액(천원)'] = merged_df1['시가총액(천원)'].fillna(merged_df1['자산(*)(천원)'])"
   ]
  },
  {
   "cell_type": "code",
   "execution_count": 77,
   "id": "74386442",
   "metadata": {},
   "outputs": [
    {
     "data": {
      "text/plain": [
       "EBITDA(백만원)              122\n",
       "회사명                        0\n",
       "당기순이익(손실)(천원)              0\n",
       "비유동자산(*)(천원)               0\n",
       "유동자산(*)(천원)                0\n",
       "재고자산(*)(천원)                0\n",
       "유동부채(*)(천원)                0\n",
       "이익잉여금(결손금)(*)(천원)          0\n",
       "부채(*)(천원)                  0\n",
       "영업이익(손실)(천원)               0\n",
       "자본(*)(천원)                  0\n",
       "거래소코드                      0\n",
       "설립일                        0\n",
       "발행주식수(*)(주)                0\n",
       "산업코드                       0\n",
       "산업명                        0\n",
       "자산_평균                      0\n",
       "자본_평균                      0\n",
       "매출액증가율                     0\n",
       "순이익증가율                     0\n",
       "정상영업이익증가율                  0\n",
       "총자본증가율                     0\n",
       "회계년도                       0\n",
       "이자보상배율(이자비용)               0\n",
       "매출원가 대 매출액비율               0\n",
       "총자본순이익률                    0\n",
       "영업활동으로 인한 현금흐름(*)(천원)      0\n",
       "투자활동으로 인한 현금흐름(*)(천원)      0\n",
       "재무활동으로 인한 현금흐름(*)(천원)      0\n",
       "자산(*)(천원)                  0\n",
       "매출액(수익)(*)(천원)             0\n",
       "차입금의존도                     0\n",
       "당좌비율                       0\n",
       "자기자본구성비율                   0\n",
       "재고자산회전률                    0\n",
       "자기자본회전률                    0\n",
       "총자본회전률                     0\n",
       "시가총액(천원)                   0\n",
       "dtype: int64"
      ]
     },
     "execution_count": 77,
     "metadata": {},
     "output_type": "execute_result"
    }
   ],
   "source": [
    "merged_df1.isna().sum().sort_values(ascending=False)"
   ]
  },
  {
   "cell_type": "markdown",
   "id": "08b6dd1e",
   "metadata": {},
   "source": [
    "#### 초과수익률 로드"
   ]
  },
  {
   "cell_type": "code",
   "execution_count": 78,
   "id": "0e42cbb6",
   "metadata": {},
   "outputs": [],
   "source": [
    "rtn_df2 = pd.read_excel(\"data/krx/초과수익률.xlsx\", dtype={'거래소코드': str})\n",
    "rtn_df2['거래소코드'] = rtn_df2['거래소코드'].str.ljust(7)"
   ]
  },
  {
   "cell_type": "code",
   "execution_count": 79,
   "id": "5c0fae74",
   "metadata": {},
   "outputs": [
    {
     "name": "stdout",
     "output_type": "stream",
     "text": [
      "(21252, 5)\n"
     ]
    }
   ],
   "source": [
    "rtn_df2['회계년도'] = rtn_df2['회계년도'].astype(str) + '/12'\n",
    "print(rtn_df2.shape)"
   ]
  },
  {
   "cell_type": "code",
   "execution_count": 80,
   "id": "c0e3c7b1",
   "metadata": {},
   "outputs": [],
   "source": [
    "merged_df2 = pd.merge(merged_df1, rtn_df2, on=['회사명', '거래소코드', '회계년도'], how='left')"
   ]
  },
  {
   "cell_type": "markdown",
   "id": "551a2fe5",
   "metadata": {},
   "source": [
    "#### 한번 더 중복하는 행 제거"
   ]
  },
  {
   "cell_type": "code",
   "execution_count": 81,
   "id": "02601068",
   "metadata": {},
   "outputs": [
    {
     "name": "stdout",
     "output_type": "stream",
     "text": [
      "(24782, 40)\n"
     ]
    }
   ],
   "source": [
    "merged_df2 = merged_df2.drop_duplicates(subset=['거래소코드', '회계년도'], keep='first')\n",
    "print(merged_df2.shape)"
   ]
  },
  {
   "cell_type": "code",
   "execution_count": 82,
   "id": "1bd8bb96",
   "metadata": {},
   "outputs": [
    {
     "data": {
      "text/plain": [
       "초과수익률                    3939\n",
       "수정종가                     3939\n",
       "EBITDA(백만원)               122\n",
       "시가총액(천원)                    0\n",
       "당기순이익(손실)(천원)               0\n",
       "유동자산(*)(천원)                 0\n",
       "재고자산(*)(천원)                 0\n",
       "유동부채(*)(천원)                 0\n",
       "이익잉여금(결손금)(*)(천원)           0\n",
       "부채(*)(천원)                   0\n",
       "영업이익(손실)(천원)                0\n",
       "자본(*)(천원)                   0\n",
       "자본_평균                       0\n",
       "거래소코드                       0\n",
       "설립일                         0\n",
       "발행주식수(*)(주)                 0\n",
       "산업코드                        0\n",
       "산업명                         0\n",
       "자산_평균                       0\n",
       "비유동자산(*)(천원)                0\n",
       "회사명                         0\n",
       "순이익증가율                      0\n",
       "자산(*)(천원)                   0\n",
       "회계년도                        0\n",
       "이자보상배율(이자비용)                0\n",
       "매출원가 대 매출액비율                0\n",
       "총자본순이익률                     0\n",
       "영업활동으로 인한 현금흐름(*)(천원)       0\n",
       "투자활동으로 인한 현금흐름(*)(천원)       0\n",
       "재무활동으로 인한 현금흐름(*)(천원)       0\n",
       "매출액(수익)(*)(천원)              0\n",
       "정상영업이익증가율                   0\n",
       "차입금의존도                      0\n",
       "당좌비율                        0\n",
       "자기자본구성비율                    0\n",
       "재고자산회전률                     0\n",
       "자기자본회전률                     0\n",
       "총자본회전률                      0\n",
       "총자본증가율                      0\n",
       "매출액증가율                      0\n",
       "dtype: int64"
      ]
     },
     "execution_count": 82,
     "metadata": {},
     "output_type": "execute_result"
    }
   ],
   "source": [
    "merged_df2.isna().sum().sort_values(ascending=False)"
   ]
  },
  {
   "cell_type": "markdown",
   "id": "19bfe670",
   "metadata": {},
   "source": [
    "#### 수정종가 널값 제거"
   ]
  },
  {
   "cell_type": "code",
   "execution_count": 83,
   "id": "52208ae6",
   "metadata": {},
   "outputs": [
    {
     "name": "stdout",
     "output_type": "stream",
     "text": [
      "(20843, 40)\n"
     ]
    }
   ],
   "source": [
    "merged_df2 = merged_df2.dropna(subset=['수정종가'])\n",
    "print(merged_df2.shape)"
   ]
  },
  {
   "cell_type": "code",
   "execution_count": 84,
   "id": "9fc15dcc",
   "metadata": {},
   "outputs": [
    {
     "data": {
      "text/plain": [
       "EBITDA(백만원)              114\n",
       "거래소코드                      0\n",
       "유동자산(*)(천원)                0\n",
       "재고자산(*)(천원)                0\n",
       "유동부채(*)(천원)                0\n",
       "이익잉여금(결손금)(*)(천원)          0\n",
       "부채(*)(천원)                  0\n",
       "영업이익(손실)(천원)               0\n",
       "당기순이익(손실)(천원)              0\n",
       "자본(*)(천원)                  0\n",
       "회사명                        0\n",
       "설립일                        0\n",
       "발행주식수(*)(주)                0\n",
       "산업코드                       0\n",
       "산업명                        0\n",
       "자산_평균                      0\n",
       "자본_평균                      0\n",
       "시가총액(천원)                   0\n",
       "수정종가                       0\n",
       "비유동자산(*)(천원)               0\n",
       "매출액증가율                     0\n",
       "순이익증가율                     0\n",
       "자산(*)(천원)                  0\n",
       "회계년도                       0\n",
       "이자보상배율(이자비용)               0\n",
       "매출원가 대 매출액비율               0\n",
       "총자본순이익률                    0\n",
       "영업활동으로 인한 현금흐름(*)(천원)      0\n",
       "투자활동으로 인한 현금흐름(*)(천원)      0\n",
       "재무활동으로 인한 현금흐름(*)(천원)      0\n",
       "매출액(수익)(*)(천원)             0\n",
       "정상영업이익증가율                  0\n",
       "차입금의존도                     0\n",
       "당좌비율                       0\n",
       "자기자본구성비율                   0\n",
       "재고자산회전률                    0\n",
       "자기자본회전률                    0\n",
       "총자본회전률                     0\n",
       "총자본증가율                     0\n",
       "초과수익률                      0\n",
       "dtype: int64"
      ]
     },
     "execution_count": 84,
     "metadata": {},
     "output_type": "execute_result"
    }
   ],
   "source": [
    "merged_df2.isna().sum().sort_values(ascending=False)"
   ]
  },
  {
   "cell_type": "markdown",
   "id": "377d75cd",
   "metadata": {},
   "source": [
    "#### 종목별_연간변동성 데이터 로드\n",
    "- 데이터 결합 위해 컬럼명과 값 재정의"
   ]
  },
  {
   "cell_type": "code",
   "execution_count": 85,
   "id": "62b78b3a",
   "metadata": {},
   "outputs": [
    {
     "name": "stdout",
     "output_type": "stream",
     "text": [
      "(31236, 3)\n"
     ]
    }
   ],
   "source": [
    "volatility_df = pd.read_excel(\"data/krx/연간변동성.xlsx\", dtype={'티커': str})\n",
    "volatility_df['거래소코드'] = volatility_df['티커'].str.ljust(7)\n",
    "volatility_df['회계년도'] = volatility_df['회계년도'].astype(str) + '/12'\n",
    "volatility_df = volatility_df.drop(columns=['티커'])\n",
    "print(volatility_df.shape)"
   ]
  },
  {
   "cell_type": "code",
   "execution_count": 86,
   "id": "4b2fa83e",
   "metadata": {},
   "outputs": [
    {
     "name": "stdout",
     "output_type": "stream",
     "text": [
      "(20843, 41)\n"
     ]
    }
   ],
   "source": [
    "dataset1 = pd.merge(merged_df2, volatility_df, on=['거래소코드', '회계년도'], how='left')\n",
    "print(dataset1.shape)"
   ]
  },
  {
   "cell_type": "code",
   "execution_count": 87,
   "id": "1f438a9e",
   "metadata": {},
   "outputs": [
    {
     "data": {
      "text/plain": [
       "EBITDA(백만원)              114\n",
       "회사명                        0\n",
       "비유동자산(*)(천원)               0\n",
       "재고자산(*)(천원)                0\n",
       "유동부채(*)(천원)                0\n",
       "이익잉여금(결손금)(*)(천원)          0\n",
       "부채(*)(천원)                  0\n",
       "영업이익(손실)(천원)               0\n",
       "당기순이익(손실)(천원)              0\n",
       "자본(*)(천원)                  0\n",
       "설립일                        0\n",
       "발행주식수(*)(주)                0\n",
       "산업코드                       0\n",
       "산업명                        0\n",
       "자산_평균                      0\n",
       "자본_평균                      0\n",
       "시가총액(천원)                   0\n",
       "수정종가                       0\n",
       "초과수익률                      0\n",
       "유동자산(*)(천원)                0\n",
       "매출액증가율                     0\n",
       "거래소코드                      0\n",
       "순이익증가율                     0\n",
       "회계년도                       0\n",
       "이자보상배율(이자비용)               0\n",
       "매출원가 대 매출액비율               0\n",
       "총자본순이익률                    0\n",
       "영업활동으로 인한 현금흐름(*)(천원)      0\n",
       "투자활동으로 인한 현금흐름(*)(천원)      0\n",
       "재무활동으로 인한 현금흐름(*)(천원)      0\n",
       "자산(*)(천원)                  0\n",
       "매출액(수익)(*)(천원)             0\n",
       "차입금의존도                     0\n",
       "당좌비율                       0\n",
       "자기자본구성비율                   0\n",
       "재고자산회전률                    0\n",
       "자기자본회전률                    0\n",
       "총자본회전률                     0\n",
       "총자본증가율                     0\n",
       "정상영업이익증가율                  0\n",
       "연간변동성                      0\n",
       "dtype: int64"
      ]
     },
     "execution_count": 87,
     "metadata": {},
     "output_type": "execute_result"
    }
   ],
   "source": [
    "dataset1.isna().sum().sort_values(ascending=False)"
   ]
  },
  {
   "cell_type": "markdown",
   "id": "89aaea3f",
   "metadata": {},
   "source": [
    "## 07. 파생변수 생성\n",
    "- ebitda(천원) - 단위맞추기\n",
    "    - ebitda(백만원) 제거\n",
    "- 설립년도\n",
    "- 기업업력\n",
    "    - 설립일과 설립년도 컬럼 제거\n",
    "- 알트만 k2변수\n",
    "    - x1, x2, x3, x4\n",
    "- roe, roa, pcr, psr\n",
    "    - ts2000에 없거나 최고, 최저로 나와서 생성\n",
    "- ln(자산), ln(매출액), ln(시가총액), ln(기업업력)\n",
    "    - 변수의 스케일 축소 및 정규화\n",
    "- 잉여현금흐름 비율"
   ]
  },
  {
   "cell_type": "code",
   "execution_count": 88,
   "id": "74f91e92",
   "metadata": {},
   "outputs": [],
   "source": [
    "dataset1['EBITDA(천원)'] = dataset1['EBITDA(백만원)'] * 1000\n",
    "dataset1['설립년도'] = dataset1['설립일'].str[:4].astype(int)\n",
    "dataset1['기업업력'] = dataset1['회계년도'].str[:4].astype(int) - dataset1['설립년도']\n",
    "dataset1 = dataset1.drop(columns=['설립일', '설립년도'])\n",
    "dataset1 = dataset1.drop(columns='EBITDA(백만원)')"
   ]
  },
  {
   "cell_type": "code",
   "execution_count": 89,
   "id": "a816d0bf",
   "metadata": {},
   "outputs": [],
   "source": [
    "dataset1['x1'] = np.log(dataset1['자산(*)(천원)'] + 1e-10)\n",
    "dataset1['x2'] = np.log((dataset1['매출액(수익)(*)(천원)'] / dataset1['자산_평균']) + 1e-10)\n",
    "dataset1['x3'] = dataset1['이익잉여금(결손금)(*)(천원)'] / dataset1['자산_평균']\n",
    "dataset1['x4'] = dataset1['시가총액(천원)'] / dataset1['부채(*)(천원)']"
   ]
  },
  {
   "cell_type": "code",
   "execution_count": 90,
   "id": "227dfdf3",
   "metadata": {},
   "outputs": [],
   "source": [
    "dataset1['roe'] = (dataset1['당기순이익(손실)(천원)'] / dataset1['자본_평균']) * 100   \n",
    "dataset1['roa'] = (dataset1['당기순이익(손실)(천원)'] / dataset1['자산_평균']) * 100\n",
    "dataset1['pcr'] = dataset1['수정종가'] / (dataset1['영업활동으로 인한 현금흐름(*)(천원)'] / dataset1['수정종가'])\n",
    "dataset1['psr'] = dataset1['수정종가'] / (dataset1['매출액(수익)(*)(천원)'] / dataset1['발행주식수(*)(주)'])"
   ]
  },
  {
   "cell_type": "code",
   "execution_count": 91,
   "id": "d824b4bd",
   "metadata": {},
   "outputs": [],
   "source": [
    "dataset1['ln(자산)'] = np.log(dataset1['자산(*)(천원)'] + 1e-10)\n",
    "dataset1['ln(매출액)'] = np.log(dataset1['매출액(수익)(*)(천원)'] + 1e-10)\n",
    "dataset1['ln(시가총액)'] = np.log(dataset1['시가총액(천원)'] + 1e-10)\n",
    "dataset1['ln(기업업력)'] = np.log(dataset1['기업업력'] + 1e-10)\n",
    "dataset1['잉여현금흐름 비율'] = dataset1['영업활동으로 인한 현금흐름(*)(천원)'] / dataset1['자산_평균']"
   ]
  },
  {
   "cell_type": "code",
   "execution_count": 97,
   "id": "24d34cf3",
   "metadata": {},
   "outputs": [
    {
     "name": "stdout",
     "output_type": "stream",
     "text": [
      "(20843, 54)\n"
     ]
    },
    {
     "data": {
      "text/plain": [
       "EBITDA(천원)               114\n",
       "회사명                        0\n",
       "기업업력                       0\n",
       "자본(*)(천원)                  0\n",
       "발행주식수(*)(주)                0\n",
       "산업코드                       0\n",
       "산업명                        0\n",
       "자산_평균                      0\n",
       "자본_평균                      0\n",
       "시가총액(천원)                   0\n",
       "수정종가                       0\n",
       "초과수익률                      0\n",
       "연간변동성                      0\n",
       "x1                         0\n",
       "거래소코드                      0\n",
       "x2                         0\n",
       "x3                         0\n",
       "x4                         0\n",
       "roe                        0\n",
       "roa                        0\n",
       "pcr                        0\n",
       "psr                        0\n",
       "ln(자산)                     0\n",
       "ln(매출액)                    0\n",
       "ln(시가총액)                   0\n",
       "ln(기업업력)                   0\n",
       "당기순이익(손실)(천원)              0\n",
       "영업이익(손실)(천원)               0\n",
       "부채(*)(천원)                  0\n",
       "이익잉여금(결손금)(*)(천원)          0\n",
       "회계년도                       0\n",
       "이자보상배율(이자비용)               0\n",
       "매출원가 대 매출액비율               0\n",
       "총자본순이익률                    0\n",
       "영업활동으로 인한 현금흐름(*)(천원)      0\n",
       "투자활동으로 인한 현금흐름(*)(천원)      0\n",
       "재무활동으로 인한 현금흐름(*)(천원)      0\n",
       "자산(*)(천원)                  0\n",
       "매출액(수익)(*)(천원)             0\n",
       "차입금의존도                     0\n",
       "당좌비율                       0\n",
       "자기자본구성비율                   0\n",
       "재고자산회전률                    0\n",
       "자기자본회전률                    0\n",
       "총자본회전률                     0\n",
       "총자본증가율                     0\n",
       "정상영업이익증가율                  0\n",
       "순이익증가율                     0\n",
       "매출액증가율                     0\n",
       "비유동자산(*)(천원)               0\n",
       "유동자산(*)(천원)                0\n",
       "재고자산(*)(천원)                0\n",
       "유동부채(*)(천원)                0\n",
       "잉여현금흐름 비율                  0\n",
       "dtype: int64"
      ]
     },
     "execution_count": 97,
     "metadata": {},
     "output_type": "execute_result"
    }
   ],
   "source": [
    "print(dataset1.shape)\n",
    "dataset1.isna().sum().sort_values(ascending=False)"
   ]
  },
  {
   "cell_type": "markdown",
   "id": "7fd340cc",
   "metadata": {},
   "source": [
    "## 08. 데이터 저장"
   ]
  },
  {
   "cell_type": "code",
   "execution_count": null,
   "id": "e83a621b",
   "metadata": {},
   "outputs": [],
   "source": [
    "dataset1.to_excel(\"data/원본데이터셋.xlsx\", index=False)"
   ]
  },
  {
   "cell_type": "code",
   "execution_count": null,
   "id": "c2c9138c",
   "metadata": {},
   "outputs": [],
   "source": []
  }
 ],
 "metadata": {
  "kernelspec": {
   "display_name": "Python 3",
   "language": "python",
   "name": "python3"
  },
  "language_info": {
   "codemirror_mode": {
    "name": "ipython",
    "version": 3
   },
   "file_extension": ".py",
   "mimetype": "text/x-python",
   "name": "python",
   "nbconvert_exporter": "python",
   "pygments_lexer": "ipython3",
   "version": "3.11.2"
  }
 },
 "nbformat": 4,
 "nbformat_minor": 5
}
