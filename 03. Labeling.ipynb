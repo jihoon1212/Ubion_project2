{
 "cells": [
  {
   "cell_type": "markdown",
   "id": "632ebc47",
   "metadata": {},
   "source": [
    "## 01. 라이브러리 로드"
   ]
  },
  {
   "cell_type": "code",
   "execution_count": 1,
   "id": "8bc9ca2e",
   "metadata": {},
   "outputs": [],
   "source": [
    "import pandas as pd"
   ]
  },
  {
   "cell_type": "markdown",
   "id": "9fe21a44",
   "metadata": {},
   "source": [
    "## 02. 데이터 로드"
   ]
  },
  {
   "cell_type": "code",
   "execution_count": 2,
   "id": "faed4e2b",
   "metadata": {},
   "outputs": [],
   "source": [
    "df = pd.read_excel(\"data/전처리후데이터셋.xlsx\",dtype={'거래소코드':str})\n",
    "\n",
    "df['회계년도'] = df['회계년도'].str.split('/').str[0].astype(int)\n",
    "df = df.sort_values([\"회사명\",\"회계년도\"],ascending=True)"
   ]
  },
  {
   "cell_type": "markdown",
   "id": "c0009aac",
   "metadata": {},
   "source": [
    "## 03. 종속변수 라벨링"
   ]
  },
  {
   "cell_type": "markdown",
   "id": "6bbd04f4",
   "metadata": {},
   "source": [
    "#### 이자보상배율 / 영업활동현금흐름 조건 라벨링"
   ]
  },
  {
   "cell_type": "code",
   "execution_count": 3,
   "id": "3f06af25",
   "metadata": {},
   "outputs": [],
   "source": [
    "# 이자보상배율 조건 계산 (2년 연속 0 미만)\n",
    "df['이자보상배율_1미만'] = (df['이자보상배율(이자비용)'] < 1).astype(int)\n",
    "df['이자보상배율_롤링합'] = df.groupby('회사명')['이자보상배율_1미만'].rolling(window=2).sum().reset_index(0, drop=True)\n",
    "df['이자보상배율라벨'] = 0\n",
    "df.loc[df['이자보상배율_롤링합'] == 2.0, '이자보상배율라벨'] = 1\n",
    "df = df.drop(columns=['이자보상배율_1미만', '이자보상배율_롤링합'])\n",
    "\n",
    "# 영업활동현금흐름 조건 계산 (2년 연속 0 미만)\n",
    "df['영업현금흐름_0미만'] = (df['영업활동으로 인한 현금흐름(*)(천원)'] < 0).astype(int)\n",
    "df['영업현금흐름_롤링합'] = df.groupby('회사명')['영업현금흐름_0미만'].rolling(window=2).sum().reset_index(0, drop=True)\n",
    "df['영업현금흐름라벨'] = 0\n",
    "df.loc[df['영업현금흐름_롤링합'] == 2.0, '영업현금흐름라벨'] = 1\n",
    "df = df.drop(columns=['영업현금흐름_0미만', '영업현금흐름_롤링합'])"
   ]
  },
  {
   "cell_type": "markdown",
   "id": "3b8ef601",
   "metadata": {},
   "source": [
    "#### 이자보상배율 / 영업활동현금흐름 조건 두개 합치기 (4진분류) - create_four_class_label 함수 이용\n",
    "- target_class_next_year : 다음해의 라벨예측을 위한 조정 (2013년 재무데이터 -> 2014년 라벨 예측)"
   ]
  },
  {
   "cell_type": "code",
   "execution_count": 4,
   "id": "b9ce6226",
   "metadata": {},
   "outputs": [],
   "source": [
    "def create_four_class_label(interest_label, cashflow_label):\n",
    "    \"\"\"\n",
    "    두 개의 이진 라벨을 4진분류로 변환\n",
    "    \n",
    "    매핑 규칙:\n",
    "    - 이자보상배율라벨=0, 영업현금흐름라벨=0 → 0\n",
    "    - 이자보상배율라벨=1, 영업현금흐름라벨=0 → 1  \n",
    "    - 이자보상배율라벨=0, 영업현금흐름라벨=1 → 2\n",
    "    - 이자보상배율라벨=1, 영업현금흐름라벨=1 → 3\n",
    "    \"\"\"\n",
    "    return interest_label * 2 + cashflow_label\n",
    "\n",
    "df['target_class'] = df.apply(lambda row: create_four_class_label(\n",
    "    row['이자보상배율라벨'], \n",
    "    row['영업현금흐름라벨']\n",
    "), axis=1)\n",
    "\n",
    "df['target_class_next_year'] = df.groupby(\"회사명\")['target_class'].shift(-1)\n",
    "df.dropna(inplace=True)\n",
    "df['target_class_next_year'] = df['target_class_next_year'].astype(int)"
   ]
  },
  {
   "cell_type": "markdown",
   "id": "bb570cc7",
   "metadata": {},
   "source": [
    "#### 이자보상배율라벨, 영업현금흐름라벨 제거 및 컬럼명 재정의"
   ]
  },
  {
   "cell_type": "code",
   "execution_count": 5,
   "id": "a3577c6c",
   "metadata": {},
   "outputs": [],
   "source": [
    "df.drop(columns=[\"이자보상배율라벨\",\"영업현금흐름라벨\",\"target_class\"], inplace=True)\n",
    "df.rename(columns={\"target_class_next_year\" : \"target_class\"}, inplace=True)"
   ]
  },
  {
   "cell_type": "markdown",
   "id": "e8edd540",
   "metadata": {},
   "source": [
    "## 04. 라벨 별 분포 확인\n",
    "- 0 : 정상기업 & 현금흐름 양호\n",
    "- 1 : 정상기업 & 현금흐름 불량\n",
    "- 2 : 한계기업 & 현금흐름 양호\n",
    "- 3 : 한계기업 & 현금흐름 불량"
   ]
  },
  {
   "cell_type": "code",
   "execution_count": 6,
   "id": "6a8e61c2",
   "metadata": {},
   "outputs": [
    {
     "name": "stdout",
     "output_type": "stream",
     "text": [
      "\n",
      "--- 4진 분류 타겟 분포 ---\n",
      "target_class\n",
      "0    13375\n",
      "1      747\n",
      "2     2212\n",
      "3     1988\n",
      "Name: count, dtype: int64\n",
      "\n",
      "--- 타겟별 비율 ---\n",
      "target_class\n",
      "0    0.729997\n",
      "1    0.040771\n",
      "2    0.120729\n",
      "3    0.108503\n",
      "Name: proportion, dtype: float64\n"
     ]
    }
   ],
   "source": [
    "print(\"\\n--- 4진 분류 타겟 분포 ---\")\n",
    "print(df['target_class'].value_counts().sort_index())\n",
    "print(\"\\n--- 타겟별 비율 ---\")\n",
    "print(df['target_class'].value_counts(normalize=True).sort_index())\n",
    "\n",
    "\n",
    "class_labels = {\n",
    "    0: '정상기업 & 현금흐름 양호',\n",
    "    1: '정상기업 & 현금흐름 불량',\n",
    "    2: '한계기업 & 현금흐름 양호',\n",
    "    3: '한계기업 & 현금흐름 불량'\n",
    "}"
   ]
  },
  {
   "cell_type": "markdown",
   "id": "c15181b2",
   "metadata": {},
   "source": [
    "## 05. 데이터 저장"
   ]
  },
  {
   "cell_type": "code",
   "execution_count": 23,
   "id": "a32db379",
   "metadata": {},
   "outputs": [],
   "source": [
    "df.to_excel(\"data/label_dataset.xlsx\",index=False)"
   ]
  },
  {
   "cell_type": "code",
   "execution_count": null,
   "id": "b9d89cb0",
   "metadata": {},
   "outputs": [],
   "source": []
  }
 ],
 "metadata": {
  "kernelspec": {
   "display_name": "Python 3",
   "language": "python",
   "name": "python3"
  },
  "language_info": {
   "codemirror_mode": {
    "name": "ipython",
    "version": 3
   },
   "file_extension": ".py",
   "mimetype": "text/x-python",
   "name": "python",
   "nbconvert_exporter": "python",
   "pygments_lexer": "ipython3",
   "version": "3.11.2"
  }
 },
 "nbformat": 4,
 "nbformat_minor": 5
}
