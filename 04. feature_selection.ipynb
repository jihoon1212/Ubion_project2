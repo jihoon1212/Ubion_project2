{
 "cells": [
  {
   "cell_type": "markdown",
   "id": "632ebc47",
   "metadata": {},
   "source": [
    "## 01. 라이브러리 로드"
   ]
  },
  {
   "cell_type": "code",
   "execution_count": null,
   "id": "8bc9ca2e",
   "metadata": {},
   "outputs": [],
   "source": [
    "import pandas as pd\n",
    "import numpy as np\n",
    "\n",
    "# SMOTE - BorderlineSMOTE만 사용\n",
    "from imblearn.over_sampling import BorderlineSMOTE\n",
    "from collections import Counter\n",
    "\n",
    "# 머신러닝 모델 및 평가\n",
    "from sklearn.preprocessing import RobustScaler\n",
    "from catboost import CatBoostClassifier\n",
    "from sklearn.metrics import accuracy_score, f1_score, roc_auc_score\n",
    "from sklearn.feature_selection import f_classif\n",
    "\n",
    "# 경고 메시지 무시\n",
    "import warnings\n",
    "warnings.filterwarnings('ignore')"
   ]
  },
  {
   "cell_type": "markdown",
   "id": "9fe21a44",
   "metadata": {},
   "source": [
    "## 02. 데이터 로드"
   ]
  },
  {
   "cell_type": "code",
   "execution_count": 31,
   "id": "faed4e2b",
   "metadata": {},
   "outputs": [],
   "source": [
    "df = pd.read_excel(\"data/label_dataset.xlsx\",dtype={'거래소코드':str})"
   ]
  },
  {
   "cell_type": "markdown",
   "id": "d2f49819",
   "metadata": {},
   "source": [
    "## 03. 독립변수 / 종속변수 정의"
   ]
  },
  {
   "cell_type": "code",
   "execution_count": 32,
   "id": "7bd0b2cc",
   "metadata": {},
   "outputs": [
    {
     "name": "stdout",
     "output_type": "stream",
     "text": [
      "사용될 피처 개수: 27\n"
     ]
    }
   ],
   "source": [
    "# 독립변수(피처)와 종속변수(타겟) 컬럼 이름 정의\n",
    "\n",
    "feature_columns = [col for col in df.columns if col not in ['회사명', '거래소코드', '회계년도', '이자보상배율(이자비용)',\n",
    "                                                            '영업활동으로 인한 현금흐름(*)(천원)', 'target_class']]\n",
    "\n",
    "print(\"사용될 피처 개수:\", len(feature_columns))"
   ]
  },
  {
   "cell_type": "markdown",
   "id": "199a5448",
   "metadata": {},
   "source": [
    "## 04. train test 분할\n",
    "- train : 2013년 ~ 2019년\n",
    "- test : 2020년 ~ 2022년"
   ]
  },
  {
   "cell_type": "code",
   "execution_count": 33,
   "id": "d946b09c",
   "metadata": {},
   "outputs": [],
   "source": [
    "split_year = 2019\n",
    "\n",
    "train = df[df['회계년도'] <= split_year]\n",
    "test = df[df['회계년도'] > split_year]\n",
    "\n",
    "X_train = train[feature_columns]\n",
    "y_train = train['target_class']\n",
    "\n",
    "X_test = test[feature_columns]\n",
    "y_test = test['target_class']"
   ]
  },
  {
   "cell_type": "markdown",
   "id": "6a2bac88",
   "metadata": {},
   "source": [
    "## 05. 데이터 스케일링\n",
    "- RobustScaler 사용 - 이상치에 영향을 줄이기 위해 사용"
   ]
  },
  {
   "cell_type": "code",
   "execution_count": 34,
   "id": "45e498df",
   "metadata": {},
   "outputs": [],
   "source": [
    "scaler = RobustScaler()\n",
    "X_train_scaled = scaler.fit_transform(X_train)\n",
    "X_test_scaled = scaler.transform(X_test)"
   ]
  },
  {
   "cell_type": "markdown",
   "id": "f7ce1810",
   "metadata": {},
   "source": [
    "## 06. 불균형 데이터 처리"
   ]
  },
  {
   "cell_type": "markdown",
   "id": "05971c8b",
   "metadata": {},
   "source": [
    "#### 원본 라벨 분포 확인"
   ]
  },
  {
   "cell_type": "code",
   "execution_count": 35,
   "id": "1ee5eba4",
   "metadata": {},
   "outputs": [
    {
     "name": "stdout",
     "output_type": "stream",
     "text": [
      "원본데이터 :  Counter({0: 9025, 2: 1445, 3: 1174, 1: 479})\n"
     ]
    }
   ],
   "source": [
    "print(\"원본데이터 : \", Counter(y_train))"
   ]
  },
  {
   "cell_type": "markdown",
   "id": "d77d74c3",
   "metadata": {},
   "source": [
    "#### SMOTE 적용 후 라벨 분포 확인\n",
    "- borderline-2 : 소수 클래스와 다수 클래스 이웃 모두와 합성 데이터를 생성하는 오버샘플링 기법이기에 사용"
   ]
  },
  {
   "cell_type": "code",
   "execution_count": 36,
   "id": "f26cea13",
   "metadata": {},
   "outputs": [
    {
     "name": "stdout",
     "output_type": "stream",
     "text": [
      "SMOTE 적용 이후 데이터: Counter({0: 9025, 2: 9025, 3: 9025, 1: 9025})\n"
     ]
    }
   ],
   "source": [
    "min_class_samples = min(Counter(y_train).values())\n",
    "safe_k = min(5, max(1, min_class_samples - 1))\n",
    "\n",
    "borderline_smote2 = BorderlineSMOTE(\n",
    "            random_state=42, \n",
    "            kind='borderline-2',\n",
    "            k_neighbors=safe_k,\n",
    "            m_neighbors=max(5, safe_k)\n",
    "        )\n",
    "\n",
    "X_train_resampled, y_train_resampled = borderline_smote2.fit_resample(X_train_scaled, y_train)\n",
    "print(\"SMOTE 적용 이후 데이터:\", Counter(y_train_resampled))"
   ]
  },
  {
   "cell_type": "markdown",
   "id": "3c72ba7a",
   "metadata": {},
   "source": [
    "## 07. 분산분석(ANOVA) - f_classif 함수 이용\n",
    "- 분산분석을 통해 y와의 관계를 검정\n",
    "- p-value < 0.05 인 변수는 유의함 -> 분석에 사용 가능함"
   ]
  },
  {
   "cell_type": "code",
   "execution_count": 37,
   "id": "3fcf142b",
   "metadata": {},
   "outputs": [
    {
     "name": "stdout",
     "output_type": "stream",
     "text": [
      "유의미한 피처 (p-value < 0.05):\n",
      "         Feature        p_value\n",
      "0   매출원가 대 매출액비율   0.000000e+00\n",
      "1        총자본순이익률   0.000000e+00\n",
      "2         차입금의존도   0.000000e+00\n",
      "3           당좌비율   1.860205e-39\n",
      "4       자기자본구성비율   0.000000e+00\n",
      "5        자기자본회전률   1.210867e-48\n",
      "6         총자본회전률   0.000000e+00\n",
      "7      정상영업이익증가율  1.021562e-217\n",
      "8         순이익증가율  2.036491e-161\n",
      "9         매출액증가율   1.110903e-53\n",
      "10            x2   0.000000e+00\n",
      "11            x3   0.000000e+00\n",
      "12            x4   2.134513e-93\n",
      "13           pcr   3.151210e-02\n",
      "14           psr   1.029026e-07\n",
      "15       ln(매출액)   0.000000e+00\n",
      "16      ln(시가총액)   0.000000e+00\n",
      "17      ln(기업업력)   6.751667e-84\n",
      "18     잉여현금흐름 비율   0.000000e+00\n",
      "19         영업이익률   6.800569e-03\n",
      "20    적자_누적_flag   0.000000e+00\n",
      "21  기업유동성위험_flag  8.909897e-306\n",
      "22      재무레버리지효과   9.992293e-41\n",
      "23       유동자산_비율   0.000000e+00\n",
      "24   자산_EBITDA비율   1.971394e-35\n",
      "25     유동부채_자본비율   3.933899e-15\n",
      "26        유동부채비율   1.218003e-04\n",
      "\n",
      "무의미한 피처 (p-value >= 0.05):\n",
      "Empty DataFrame\n",
      "Columns: [Feature, p_value]\n",
      "Index: []\n"
     ]
    }
   ],
   "source": [
    "# ANOVA (f_classif) 수행\n",
    "F_values, p_values = f_classif(X_train_resampled, y_train_resampled)\n",
    "\n",
    "anova_results = pd.DataFrame({\n",
    "    'Feature': feature_columns,\n",
    "    'F_value': F_values,\n",
    "    'p_value': p_values\n",
    "})\n",
    "\n",
    "# 유의수준 0.05 기준 유의미한 피처 필터링\n",
    "significant_features = anova_results[anova_results['p_value'] < 0.05]\n",
    "non_significant_features = anova_results[anova_results['p_value'] >= 0.05]\n",
    "\n",
    "print(\"유의미한 피처 (p-value < 0.05):\")\n",
    "print(significant_features[['Feature', 'p_value']])\n",
    "\n",
    "print(\"\\n무의미한 피처 (p-value >= 0.05):\")\n",
    "print(non_significant_features[['Feature', 'p_value']])"
   ]
  },
  {
   "cell_type": "markdown",
   "id": "157cc281",
   "metadata": {},
   "source": [
    "## 08. 변수중요도 산출\n",
    "- 아래 트리모형들 중 가장 성능이 좋은 모형의 변수중요도 채택\n",
    "- 트리기반 앙상블 모델\n",
    "  - Random Forest\n",
    "  - XGBoost\n",
    "  - LightGBM\n",
    "  - CatBoost\n",
    "  - Extra Trees"
   ]
  },
  {
   "cell_type": "markdown",
   "id": "ba021de9",
   "metadata": {},
   "source": [
    "#### 모델 별 확인 결과 CatBoost 성능이 좋아 채택"
   ]
  },
  {
   "cell_type": "code",
   "execution_count": 38,
   "id": "f97c2c93",
   "metadata": {},
   "outputs": [
    {
     "name": "stdout",
     "output_type": "stream",
     "text": [
      "정확도(Accuracy): 0.796580093563478\n",
      "F1 score: 0.6766191195945743\n",
      "AUC: 0.944196575872389\n",
      "\n",
      "=== 전체 27개 피처의 변수 중요도 ===\n",
      "(중요도 순으로 정렬)\n",
      " 1. 잉여현금흐름 비율: 18.1918\n",
      " 2. 영업이익률: 12.8760\n",
      " 3. pcr: 9.6426\n",
      " 4. 정상영업이익증가율: 5.3027\n",
      " 5. 차입금의존도: 4.8639\n",
      " 6. 자산_EBITDA비율: 4.0178\n",
      " 7. 순이익증가율: 3.4969\n",
      " 8. psr: 3.3596\n",
      " 9. 당좌비율: 3.3546\n",
      "10. x2: 3.1927\n",
      "11. 재무레버리지효과: 2.5101\n",
      "12. 매출원가 대 매출액비율: 2.4679\n",
      "13. 매출액증가율: 2.4667\n",
      "14. ln(기업업력): 2.4355\n",
      "15. ln(시가총액): 2.3498\n",
      "16. x3: 2.3092\n",
      "17. 총자본순이익률: 2.1947\n",
      "18. 유동자산_비율: 2.0990\n",
      "19. 적자_누적_flag: 2.0057\n",
      "20. ln(매출액): 1.9606\n",
      "21. 기업유동성위험_flag: 1.8634\n",
      "22. 유동부채비율: 1.8056\n",
      "23. 총자본회전률: 1.7539\n",
      "24. x4: 1.4642\n",
      "25. 자기자본회전률: 0.8216\n",
      "26. 유동부채_자본비율: 0.6845\n",
      "27. 자기자본구성비율: 0.5092\n",
      "\n",
      "=== 변수 중요도 (상위 10개) ===\n",
      " 1. 잉여현금흐름 비율: 18.1918\n",
      " 2. 영업이익률: 12.8760\n",
      " 3. pcr: 9.6426\n",
      " 4. 정상영업이익증가율: 5.3027\n",
      " 5. 차입금의존도: 4.8639\n",
      " 6. 자산_EBITDA비율: 4.0178\n",
      " 7. 순이익증가율: 3.4969\n",
      " 8. psr: 3.3596\n",
      " 9. 당좌비율: 3.3546\n",
      "10. x2: 3.1927\n"
     ]
    }
   ],
   "source": [
    "model = CatBoostClassifier(\n",
    "            iterations=400,             # 반복 횟수 증가\n",
    "            depth=8,                    # 깊이 증가\n",
    "            learning_rate=0.02,         # 학습률 감소\n",
    "            l2_leaf_reg=2,              # L2 정규화 감소\n",
    "            border_count=128,           # 경계 개수 증가\n",
    "            bagging_temperature=0.3,    # 배깅 온도 감소\n",
    "            random_strength=0.3,        # 무작위 강도 감소\n",
    "            od_type='IncToDec',\n",
    "            od_wait=100,                # 조기 중단 대기 증가\n",
    "            rsm=0.85,                   # 무작위 서브스페이스 방법\n",
    "            grow_policy='SymmetricTree', # 성장 정책\n",
    "            bootstrap_type='Bayesian',   # 부트스트랩 타입\n",
    "            sampling_frequency='PerTreeLevel', # 샘플링 빈도\n",
    "            leaf_estimation_method='Newton', # 리프 추정 방법\n",
    "            score_function='Cosine',     # 점수 함수\n",
    "            objective='MultiClass',\n",
    "            auto_class_weights='Balanced', # 자동 클래스 가중치\n",
    "            random_state=42,\n",
    "            thread_count=-1,\n",
    "            verbose=False\n",
    "        )\n",
    "\n",
    "model.fit(X_train_resampled, y_train_resampled)\n",
    "importances = model.feature_importances_\n",
    "\n",
    "# 예측값 생성\n",
    "y_pred = model.predict(X_test_scaled)\n",
    "y_proba = model.predict_proba(X_test_scaled)\n",
    "\n",
    "print(\"정확도(Accuracy):\", accuracy_score(y_test, y_pred))\n",
    "print(\"F1 score:\", f1_score(y_test, y_pred, average='macro', zero_division=0))\n",
    "print(\"AUC:\", roc_auc_score(y_test, y_proba, multi_class='ovr'))\n",
    "\n",
    "print(f\"\\n=== 전체 {len(importances)}개 피처의 변수 중요도 ===\")\n",
    "print(\"(중요도 순으로 정렬)\")\n",
    "\n",
    "feature_importance_pairs = list(zip(feature_columns, importances))\n",
    "feature_importance_pairs.sort(key=lambda x: x[1], reverse=True)\n",
    "\n",
    "for rank, (name, importance) in enumerate(feature_importance_pairs, 1):\n",
    "    print(f\"{rank:2d}. {name}: {importance:.4f}\")\n",
    "\n",
    "selected_features = [name for name, importance in feature_importance_pairs[:10]]\n",
    "\n",
    "print(f\"\\n=== 변수 중요도 (상위 10개) ===\")\n",
    "for rank, (name, importance) in enumerate(feature_importance_pairs[:10], 1):\n",
    "    print(f\"{rank:2d}. {name}: {importance:.4f}\")"
   ]
  },
  {
   "cell_type": "markdown",
   "id": "1e346636",
   "metadata": {},
   "source": [
    "## 09. 최종 피쳐명 선택 및 데이터 저장"
   ]
  },
  {
   "cell_type": "code",
   "execution_count": 39,
   "id": "c35b96ac",
   "metadata": {},
   "outputs": [],
   "source": [
    "selected_importance = [\"잉여현금흐름 비율\",\"영업이익률\",\"pcr\",\"정상영업이익증가율\",\"차입금의존도\",\"자산_EBITDA비율\",\"순이익증가율\",\"psr\",\"당좌비율\",\"x2\"]\n",
    "\n",
    "cols_to_keep_importance = ['회사명','거래소코드','회계년도'] + selected_importance + ['target_class']\n",
    "selected_importance_df = df[cols_to_keep_importance]\n",
    "selected_importance_df.to_excel(\"data/변수중요도.xlsx\", index=False)"
   ]
  },
  {
   "cell_type": "code",
   "execution_count": null,
   "id": "238fa133",
   "metadata": {},
   "outputs": [],
   "source": []
  }
 ],
 "metadata": {
  "kernelspec": {
   "display_name": "Python 3",
   "language": "python",
   "name": "python3"
  },
  "language_info": {
   "codemirror_mode": {
    "name": "ipython",
    "version": 3
   },
   "file_extension": ".py",
   "mimetype": "text/x-python",
   "name": "python",
   "nbconvert_exporter": "python",
   "pygments_lexer": "ipython3",
   "version": "3.11.2"
  }
 },
 "nbformat": 4,
 "nbformat_minor": 5
}
