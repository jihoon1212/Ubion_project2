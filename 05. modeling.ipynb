{
 "cells": [
  {
   "cell_type": "markdown",
   "id": "98aa7bee",
   "metadata": {},
   "source": [
    "## 01. 라이브러리 로드"
   ]
  },
  {
   "cell_type": "code",
   "execution_count": null,
   "id": "de813542",
   "metadata": {},
   "outputs": [],
   "source": [
    "import pandas as pd\n",
    "import numpy as np\n",
    "\n",
    "from sklearn.model_selection import RandomizedSearchCV, StratifiedKFold\n",
    "from sklearn.linear_model import LogisticRegression\n",
    "from sklearn.preprocessing import RobustScaler\n",
    "from sklearn.ensemble import VotingClassifier, StackingClassifier, RandomForestClassifier\n",
    "import lightgbm as lgb\n",
    "from collections import Counter\n",
    "from xgboost import XGBClassifier\n",
    "from lightgbm import LGBMClassifier\n",
    "from imblearn.over_sampling import BorderlineSMOTE\n",
    "from sklearn.svm import SVC\n",
    "from sklearn.metrics import (\n",
    "    confusion_matrix,\n",
    "    accuracy_score,\n",
    "    precision_score,\n",
    "    recall_score,\n",
    "    f1_score,\n",
    "    roc_auc_score,\n",
    ")\n",
    "# 경고 메시지 무시\n",
    "import warnings\n",
    "warnings.filterwarnings('ignore')"
   ]
  },
  {
   "cell_type": "markdown",
   "id": "a2951b9a",
   "metadata": {},
   "source": [
    "## 02. 데이터 로드"
   ]
  },
  {
   "cell_type": "code",
   "execution_count": 17,
   "id": "d79498cb",
   "metadata": {},
   "outputs": [],
   "source": [
    "df = pd.read_excel(\"data/변수중요도.xlsx\", dtype={\"거래소코드\":str})"
   ]
  },
  {
   "cell_type": "markdown",
   "id": "a0a545b3",
   "metadata": {},
   "source": [
    "## 03. 제외할 컬럼 및 독립변스 리스트 생성"
   ]
  },
  {
   "cell_type": "code",
   "execution_count": 18,
   "id": "5a72df24",
   "metadata": {},
   "outputs": [
    {
     "name": "stdout",
     "output_type": "stream",
     "text": [
      "사용될 피처 개수: 10\n"
     ]
    }
   ],
   "source": [
    "col_list = list(df.columns)\n",
    "\n",
    "exclude_cols = ['회사명', '거래소코드', '회계년도', 'target_class']\n",
    "\n",
    "feature_columns = [col for col in col_list if col not in exclude_cols]\n",
    "\n",
    "print(\"사용될 피처 개수:\", len(feature_columns))"
   ]
  },
  {
   "cell_type": "markdown",
   "id": "f0074bf7",
   "metadata": {},
   "source": [
    "## 4. 슬라이딩 윈도우 - create_grouped_sliding_windows 함수 이용\n",
    "- 회사별로 슬라이딩 윈도우 생성 - 슬라이딩 크기 : 3\n",
    "- 윈도우의 마지막 회계년도 반환"
   ]
  },
  {
   "cell_type": "code",
   "execution_count": 19,
   "id": "264bb2f1",
   "metadata": {},
   "outputs": [
    {
     "name": "stdout",
     "output_type": "stream",
     "text": [
      "\n",
      "--- 3년 회사별 슬라이딩 윈도우 적용 후 데이터 형태 ---\n",
      "X_windowed shape: (13814, 30)\n",
      "y_windowed shape: (13814,)\n"
     ]
    }
   ],
   "source": [
    "def create_grouped_sliding_windows(df, feature_cols, target_col, window_size):\n",
    "    \"\"\"\n",
    "    회사별로 슬라이딩 윈도우를 생성하는 함수.\n",
    "    윈도우의 마지막 연도(회계년도)도 반환합니다.\n",
    "    \"\"\"\n",
    "    X_windowed_list = []\n",
    "    y_windowed_list = []\n",
    "    window_years = []\n",
    "    window_companies = []\n",
    "\n",
    "    for name, group in df.groupby('회사명'):\n",
    "        group = group.sort_values('회계년도')\n",
    "        group_features = group[feature_cols].values\n",
    "        group_target = group[target_col].values\n",
    "        group_years = group['회계년도'].values\n",
    "\n",
    "        if len(group) >= window_size:\n",
    "            for i in range(len(group) - window_size + 1):\n",
    "                window = group_features[i : i + window_size].flatten()\n",
    "                label = group_target[i + window_size - 1]\n",
    "                last_year = group_years[i + window_size - 1]\n",
    "\n",
    "                X_windowed_list.append(window)\n",
    "                y_windowed_list.append(label)\n",
    "                window_years.append(last_year)\n",
    "                window_companies.append(name)\n",
    "\n",
    "    return (\n",
    "        np.array(X_windowed_list),\n",
    "        np.array(y_windowed_list),\n",
    "        np.array(window_years),\n",
    "        np.array(window_companies)\n",
    "    )\n",
    "\n",
    "WINDOW_SIZE = 3\n",
    "\n",
    "X_windowed, y_windowed, window_years, window_companies = create_grouped_sliding_windows(\n",
    "    df,\n",
    "    feature_columns,\n",
    "    'target_class',\n",
    "    WINDOW_SIZE\n",
    ")\n",
    "\n",
    "print(f\"\\n--- {WINDOW_SIZE}년 회사별 슬라이딩 윈도우 적용 후 데이터 형태 ---\")\n",
    "print(\"X_windowed shape:\", X_windowed.shape)\n",
    "print(\"y_windowed shape:\", y_windowed.shape)"
   ]
  },
  {
   "cell_type": "markdown",
   "id": "b7ce71d2",
   "metadata": {},
   "source": [
    "## 05. train, test 분할\n",
    "- train : 2013 ~ 2019\n",
    "- test : 2020 ~ 2023"
   ]
  },
  {
   "cell_type": "code",
   "execution_count": 20,
   "id": "c1b52982",
   "metadata": {},
   "outputs": [],
   "source": [
    "split_year = 2019\n",
    "\n",
    "X_train = X_windowed[window_years <= split_year]\n",
    "y_train = y_windowed[window_years <= split_year]\n",
    "\n",
    "X_test = X_windowed[window_years > split_year]\n",
    "y_test = y_windowed[window_years > split_year]"
   ]
  },
  {
   "cell_type": "markdown",
   "id": "40b90f38",
   "metadata": {},
   "source": [
    "## 06. 표준화\n",
    "- RobustScaler 사용"
   ]
  },
  {
   "cell_type": "code",
   "execution_count": 21,
   "id": "e398092a",
   "metadata": {},
   "outputs": [],
   "source": [
    "# 스케일링 (표준화)\n",
    "scaler = RobustScaler()\n",
    "X_train_scaled = scaler.fit_transform(X_train)\n",
    "X_test_scaled = scaler.transform(X_test)"
   ]
  },
  {
   "cell_type": "markdown",
   "id": "18623e5c",
   "metadata": {},
   "source": [
    "## 07. 불균형데이터 처리 (SMOTE)\n",
    "- borderline-2 사용"
   ]
  },
  {
   "cell_type": "code",
   "execution_count": 22,
   "id": "b3606d66",
   "metadata": {},
   "outputs": [
    {
     "name": "stdout",
     "output_type": "stream",
     "text": [
      "원본데이터 :  Counter({0: 6069, 2: 989, 3: 780, 1: 303})\n",
      "SMOTE 적용 이후 데이터: Counter({0: 6069, 2: 6069, 1: 6069, 3: 6069})\n"
     ]
    }
   ],
   "source": [
    "# SMOTE\n",
    "min_class_samples = min(Counter(y_train).values())\n",
    "safe_k = min(5, max(1, min_class_samples - 1))\n",
    "\n",
    "borderline_smote2 = BorderlineSMOTE(\n",
    "            random_state=42, \n",
    "            kind='borderline-2',\n",
    "            k_neighbors=safe_k,\n",
    "            m_neighbors=max(5, safe_k)\n",
    "        )\n",
    "\n",
    "print(\"원본데이터 : \", Counter(y_train))\n",
    "X_train_resampled, y_train_resampled = borderline_smote2.fit_resample(X_train_scaled, y_train)\n",
    "print(\"SMOTE 적용 이후 데이터:\", Counter(y_train_resampled))"
   ]
  },
  {
   "cell_type": "markdown",
   "id": "ef07e36d",
   "metadata": {},
   "source": [
    "## 08. 모델링 - 각각 혼동행렬 확인\n",
    "- Logistic Regression\n",
    "- Random Forest\n",
    "- XGBoost\n",
    "- LightGBM\n",
    "- Voting(Soft)\n",
    "- Stacking"
   ]
  },
  {
   "cell_type": "markdown",
   "id": "24b793ce",
   "metadata": {},
   "source": [
    "#### Logistic Regression"
   ]
  },
  {
   "cell_type": "code",
   "execution_count": null,
   "id": "3ca4a5e2",
   "metadata": {},
   "outputs": [
    {
     "name": "stdout",
     "output_type": "stream",
     "text": [
      "[[2871  508  533  108]\n",
      " [  50  105   29   63]\n",
      " [  69  143  382  119]\n",
      " [   7  162  102  422]]\n"
     ]
    }
   ],
   "source": [
    "from sklearn.linear_model import LogisticRegression\n",
    "from sklearn.metrics import accuracy_score, f1_score, precision_score, recall_score, roc_auc_score\n",
    "\n",
    "# 최적 하이퍼파라미터로 다중로지스틱회귀 모델 생성\n",
    "lr_model = LogisticRegression(\n",
    "    penalty='l2',\n",
    "    max_iter=5000,\n",
    "    class_weight='balanced',\n",
    "    C=0.01,\n",
    "    random_state=42,\n",
    "    n_jobs=-1\n",
    ")\n",
    "\n",
    "# 모델 훈련\n",
    "lr_model.fit(X_train_resampled, y_train_resampled)\n",
    "\n",
    "# 예측\n",
    "y_pred = lr_model.predict(X_test_scaled)\n",
    "y_proba = lr_model.predict_proba(X_test_scaled)\n",
    "\n",
    "# 성능 지표 계산\n",
    "lr_confusion_matrix = confusion_matrix(y_test, y_pred)\n",
    "lr_accuracy = accuracy_score(y_test, y_pred)\n",
    "lr_precision = precision_score(y_test, y_pred, average='macro')\n",
    "lr_recall = recall_score(y_test, y_pred, average='macro')\n",
    "lr_macro_f1 = f1_score(y_test, y_pred, average='macro')\n",
    "lr_weighted_f1 = f1_score(y_test, y_pred, average='weighted')\n",
    "lr_auc_roc = roc_auc_score(y_test, y_proba, multi_class='ovr', average='macro')\n",
    "\n",
    "# 결과 출력\n",
    "print(lr_confusion_matrix)\n",
    "print(f\"Accuracy: {lr_accuracy:.4f}\")\n",
    "print(f\"Precision (macro): {lr_precision:.4f}\")\n",
    "print(f\"Recall (macro): {lr_recall:.4f}\")\n",
    "print(f\"Macro-F1: {lr_macro_f1:.4f}\")\n",
    "print(f\"Weighted-F1: {lr_weighted_f1:.4f}\")\n",
    "print(f\"AUC-ROC (macro): {lr_auc_roc:.4f}\")"
   ]
  },
  {
   "cell_type": "markdown",
   "id": "8f959cfd",
   "metadata": {},
   "source": [
    "#### Random Forest"
   ]
  },
  {
   "cell_type": "code",
   "execution_count": null,
   "id": "cf868d6b",
   "metadata": {},
   "outputs": [
    {
     "name": "stdout",
     "output_type": "stream",
     "text": [
      "[[3108  420  415   77]\n",
      " [   1  187   12   47]\n",
      " [  46   46  474  147]\n",
      " [   0   62   16  615]]\n"
     ]
    }
   ],
   "source": [
    "# 최적 하이퍼파라미터로 랜덤포레스트 모델 생성\n",
    "rf_model = RandomForestClassifier(\n",
    "    n_estimators=700,\n",
    "    min_weight_fraction_leaf=0.01,\n",
    "    min_samples_split=15,\n",
    "    min_samples_leaf=4,\n",
    "    min_impurity_decrease=0.0001,\n",
    "    max_samples=1.0,\n",
    "    max_leaf_nodes=None,\n",
    "    max_features='log2',\n",
    "    max_depth=10,\n",
    "    ccp_alpha=0.0,\n",
    "    bootstrap=True,\n",
    "    class_weight='balanced',\n",
    "    random_state=42,\n",
    "    n_jobs=-1\n",
    ")\n",
    "\n",
    "# 모델 훈련\n",
    "rf_model.fit(X_train_resampled, y_train_resampled)\n",
    "\n",
    "# 예측\n",
    "y_pred = rf_model.predict(X_test_scaled)\n",
    "y_proba = rf_model.predict_proba(X_test_scaled)\n",
    "\n",
    "# 성능 지표 계산\n",
    "rf_confusion_matrix = confusion_matrix(y_test, y_pred)\n",
    "rf_accuracy = accuracy_score(y_test, y_pred)\n",
    "rf_precision = precision_score(y_test, y_pred, average='macro')\n",
    "rf_recall = recall_score(y_test, y_pred, average='macro')\n",
    "rf_macro_f1 = f1_score(y_test, y_pred, average='macro')\n",
    "rf_weighted_f1 = f1_score(y_test, y_pred, average='weighted')\n",
    "rf_auc_roc = roc_auc_score(y_test, y_proba, multi_class='ovr', average='macro')\n",
    "\n",
    "# 결과 출력\n",
    "print(rf_confusion_matrix)\n",
    "print(f\"Accuracy: {rf_accuracy:.4f}\")\n",
    "print(f\"Precision (macro): {rf_precision:.4f}\")\n",
    "print(f\"Recall (macro): {rf_recall:.4f}\")\n",
    "print(f\"Macro-F1: {rf_macro_f1:.4f}\")\n",
    "print(f\"Weighted-F1: {rf_weighted_f1:.4f}\")\n",
    "print(f\"AUC-ROC (macro): {rf_auc_roc:.4f}\")"
   ]
  },
  {
   "cell_type": "markdown",
   "id": "0430fe71",
   "metadata": {},
   "source": [
    "#### XGBoost"
   ]
  },
  {
   "cell_type": "code",
   "execution_count": null,
   "id": "5549eb85",
   "metadata": {},
   "outputs": [
    {
     "name": "stdout",
     "output_type": "stream",
     "text": [
      "[[3619   88  253   60]\n",
      " [ 133   53   12   49]\n",
      " [ 145   13  436  119]\n",
      " [  26   25  105  537]]\n"
     ]
    }
   ],
   "source": [
    "from xgboost import XGBClassifier\n",
    "from sklearn.metrics import accuracy_score, f1_score, precision_score, recall_score, roc_auc_score\n",
    "\n",
    "# 최적 하이퍼파라미터로 XGBoost 모델 생성\n",
    "xgb_model = XGBClassifier(\n",
    "    subsample=0.7,\n",
    "    scale_pos_weight=4,\n",
    "    reg_lambda=8,\n",
    "    reg_alpha=0.1,\n",
    "    n_estimators=800,\n",
    "    min_child_weight=5,\n",
    "    max_depth=8,\n",
    "    max_delta_step=1,\n",
    "    learning_rate=0.22999999999999998,\n",
    "    gamma=0,\n",
    "    colsample_bytree=0.8,\n",
    "    colsample_bylevel=0.9,\n",
    "    booster='gbtree',\n",
    "    random_state=42,\n",
    "    n_jobs=-1\n",
    ")\n",
    "\n",
    "# 모델 훈련\n",
    "xgb_model.fit(X_train_resampled, y_train_resampled)\n",
    "\n",
    "# 예측\n",
    "y_pred = xgb_model.predict(X_test_scaled)\n",
    "y_proba = xgb_model.predict_proba(X_test_scaled)\n",
    "\n",
    "# 성능 지표 계산\n",
    "xgb_confusion_matrix = confusion_matrix(y_test,y_pred)\n",
    "xgb_accuracy = accuracy_score(y_test, y_pred)\n",
    "xgb_precision = precision_score(y_test, y_pred, average='macro')\n",
    "xgb_recall = recall_score(y_test, y_pred, average='macro')\n",
    "xgb_macro_f1 = f1_score(y_test, y_pred, average='macro')\n",
    "xgb_weighted_f1 = f1_score(y_test, y_pred, average='weighted')\n",
    "xgb_auc_roc = roc_auc_score(y_test, y_proba, multi_class='ovr', average='macro')\n",
    "\n",
    "# 결과 출력\n",
    "print(xgb_confusion_matrix)\n",
    "print(f\"Accuracy: {xgb_accuracy:.4f}\")\n",
    "print(f\"Precision (macro): {xgb_precision:.4f}\")\n",
    "print(f\"Recall (macro): {xgb_recall:.4f}\")\n",
    "print(f\"Macro-F1: {xgb_macro_f1:.4f}\")\n",
    "print(f\"Weighted-F1: {xgb_weighted_f1:.4f}\")\n",
    "print(f\"AUC-ROC (macro): {xgb_auc_roc:.4f}\")"
   ]
  },
  {
   "cell_type": "markdown",
   "id": "674636ff",
   "metadata": {},
   "source": [
    "#### LightGBM"
   ]
  },
  {
   "cell_type": "code",
   "execution_count": null,
   "id": "3673a94a",
   "metadata": {},
   "outputs": [
    {
     "name": "stdout",
     "output_type": "stream",
     "text": [
      "[[3607   73  276   64]\n",
      " [ 134   53   13   47]\n",
      " [ 116   12  460  125]\n",
      " [  29   18   88  558]]\n"
     ]
    }
   ],
   "source": [
    "# 최적 하이퍼파라미터로 LightGBM 모델 생성\n",
    "lgb_model = LGBMClassifier(\n",
    "    subsample=0.8,\n",
    "    reg_lambda=0.1,\n",
    "    reg_alpha=0.1,\n",
    "    num_leaves=63,\n",
    "    n_estimators=200,\n",
    "    min_child_samples=50,\n",
    "    max_depth=-1,\n",
    "    learning_rate=0.1,\n",
    "    colsample_bytree=1.0,\n",
    "    class_weight='balanced',\n",
    "    random_state=42,\n",
    "    n_jobs=-1,\n",
    "    verbose=-1\n",
    ")\n",
    "\n",
    "# 모델 훈련\n",
    "lgb_model.fit(X_train_resampled, y_train_resampled)\n",
    "\n",
    "# 예측\n",
    "y_pred = lgb_model.predict(X_test_scaled)\n",
    "y_proba = lgb_model.predict_proba(X_test_scaled)\n",
    "\n",
    "# 성능 지표 계산\n",
    "lgb_confusion_matrix = confusion_matrix(y_test,y_pred)\n",
    "lgb_accuracy = accuracy_score(y_test, y_pred)\n",
    "lgb_precision = precision_score(y_test, y_pred, average='macro')\n",
    "lgb_recall = recall_score(y_test, y_pred, average='macro')\n",
    "lgb_macro_f1 = f1_score(y_test, y_pred, average='macro')\n",
    "lgb_weighted_f1 = f1_score(y_test, y_pred, average='weighted')\n",
    "lgb_auc_roc = roc_auc_score(y_test, y_proba, multi_class='ovr', average='macro')\n",
    "\n",
    "# 결과 출력\n",
    "print(lgb_confusion_matrix)\n",
    "print(f\"Accuracy: {lgb_accuracy:.4f}\")\n",
    "print(f\"Precision (macro): {lgb_precision:.4f}\")\n",
    "print(f\"Recall (macro): {lgb_recall:.4f}\")\n",
    "print(f\"Macro-F1: {lgb_macro_f1:.4f}\")\n",
    "print(f\"Weighted-F1: {lgb_weighted_f1:.4f}\")\n",
    "print(f\"AUC-ROC (macro): {lgb_auc_roc:.4f}\")"
   ]
  },
  {
   "cell_type": "markdown",
   "id": "7848e9d9",
   "metadata": {},
   "source": [
    "#### Voting(Soft)"
   ]
  },
  {
   "cell_type": "code",
   "execution_count": null,
   "id": "f77a417e",
   "metadata": {},
   "outputs": [
    {
     "name": "stdout",
     "output_type": "stream",
     "text": [
      "[[3590   86  283   61]\n",
      " [ 137   47   14   49]\n",
      " [ 121   14  456  122]\n",
      " [  23   24   90  556]]\n"
     ]
    }
   ],
   "source": [
    "from xgboost import XGBClassifier\n",
    "from lightgbm import LGBMClassifier\n",
    "from sklearn.ensemble import VotingClassifier\n",
    "from sklearn.metrics import accuracy_score, f1_score, precision_score, recall_score, roc_auc_score\n",
    "\n",
    "# XGBoost 모델 생성\n",
    "xgb_base_model = XGBClassifier(\n",
    "    objective='multi:softprob',\n",
    "    colsample_bytree=0.7,\n",
    "    eval_metric='mlogloss',\n",
    "    learning_rate=0.08,\n",
    "    max_depth=7,\n",
    "    n_estimators=300,\n",
    "    n_jobs=-1,\n",
    "    random_state=42,\n",
    "    reg_alpha=0.1,\n",
    "    subsample=0.9,\n",
    "    verbosity=0\n",
    ")\n",
    "\n",
    "# LightGBM 모델 생성\n",
    "lgb_base_model = LGBMClassifier(\n",
    "    boosting_type='gbdt',\n",
    "    colsample_bytree=1.0,\n",
    "    learning_rate=0.1,\n",
    "    max_depth=8,\n",
    "    min_child_samples=20,\n",
    "    n_estimators=200,\n",
    "    n_jobs=-1,\n",
    "    num_leaves=50,\n",
    "    objective='multiclass',\n",
    "    random_state=42,\n",
    "    reg_alpha=0.0,\n",
    "    reg_lambda=0.0,\n",
    "    subsample=1.0,\n",
    "    metric='multi_logloss',\n",
    "    verbosity=-1,\n",
    "    feature_fraction=0.8,\n",
    "    bagging_fraction=0.85\n",
    ")\n",
    "\n",
    "# 소프트 보팅 앙상블 모델 생성\n",
    "voting_model = VotingClassifier(\n",
    "    estimators=[('xgb', xgb_base_model), ('lgb', lgb_base_model)],\n",
    "    voting='soft'\n",
    ")\n",
    "\n",
    "# 모델 훈련\n",
    "voting_model.fit(X_train_resampled, y_train_resampled)\n",
    "\n",
    "# 예측\n",
    "y_pred = voting_model.predict(X_test_scaled)\n",
    "y_proba = voting_model.predict_proba(X_test_scaled)\n",
    "\n",
    "# 성능 지표 계산\n",
    "voting_confusion_matrix = confusion_matrix(y_test,y_pred)\n",
    "voting_accuracy = accuracy_score(y_test, y_pred)\n",
    "voting_precision = precision_score(y_test, y_pred, average='macro')\n",
    "voting_recall = recall_score(y_test, y_pred, average='macro')\n",
    "voting_macro_f1 = f1_score(y_test, y_pred, average='macro')\n",
    "voting_weighted_f1 = f1_score(y_test, y_pred, average='weighted')\n",
    "voting_auc_roc = roc_auc_score(y_test, y_proba, multi_class='ovr', average='macro')\n",
    "\n",
    "# 결과 출력\n",
    "print(voting_confusion_matrix)\n",
    "print(f\"Accuracy: {voting_accuracy:.4f}\")\n",
    "print(f\"Precision (macro): {voting_precision:.4f}\")\n",
    "print(f\"Recall (macro): {voting_recall:.4f}\")\n",
    "print(f\"Macro-F1: {voting_macro_f1:.4f}\")\n",
    "print(f\"Weighted-F1: {voting_weighted_f1:.4f}\")\n",
    "print(f\"AUC-ROC (macro): {voting_auc_roc:.4f}\")"
   ]
  },
  {
   "cell_type": "markdown",
   "id": "a36df913",
   "metadata": {},
   "source": [
    "#### Stacking"
   ]
  },
  {
   "cell_type": "code",
   "execution_count": null,
   "id": "47c45f53",
   "metadata": {},
   "outputs": [
    {
     "name": "stdout",
     "output_type": "stream",
     "text": [
      "[[3350  201  395   74]\n",
      " [  64  103   22   58]\n",
      " [  47   20  502  144]\n",
      " [   7   32   73  581]]\n"
     ]
    }
   ],
   "source": [
    "from sklearn.ensemble import RandomForestClassifier, StackingClassifier\n",
    "from xgboost import XGBClassifier\n",
    "from lightgbm import LGBMClassifier\n",
    "from sklearn.linear_model import RidgeClassifier\n",
    "from sklearn.metrics import accuracy_score, f1_score, precision_score, recall_score, roc_auc_score\n",
    "\n",
    "# 베이스 모델들 생성\n",
    "rf_base_model2 = RandomForestClassifier(\n",
    "    bootstrap=True,\n",
    "    ccp_alpha=0.0,\n",
    "    class_weight='balanced',\n",
    "    criterion='gini',\n",
    "    max_depth=8,\n",
    "    max_features='sqrt',\n",
    "    max_leaf_nodes=None,\n",
    "    max_samples=None,\n",
    "    min_impurity_decrease=0.0,\n",
    "    min_samples_leaf=4,\n",
    "    min_samples_split=10,\n",
    "    min_weight_fraction_leaf=0.0,\n",
    "    n_estimators=100,\n",
    "    n_jobs=-1,\n",
    "    oob_score=False,\n",
    "    random_state=42,\n",
    "    verbose=0,\n",
    "    warm_start=False\n",
    ")\n",
    "\n",
    "xgb_base_model2 = XGBClassifier(\n",
    "    objective='multi:softprob',\n",
    "    colsample_bytree=0.8,\n",
    "    eval_metric='mlogloss',\n",
    "    learning_rate=0.05,\n",
    "    max_depth=4,\n",
    "    n_estimators=100,\n",
    "    random_state=42,\n",
    "    reg_lambda=5,\n",
    "    subsample=0.8,\n",
    "    verbosity=0\n",
    ")\n",
    "\n",
    "lgb_base_model2 = LGBMClassifier(\n",
    "    objective='multiclass',\n",
    "    colsample_bytree=0.8,\n",
    "    learning_rate=0.05,\n",
    "    max_depth=4,\n",
    "    n_estimators=100,\n",
    "    random_state=42,\n",
    "    reg_lambda=5,\n",
    "    subsample=0.8,\n",
    "    verbosity=-1\n",
    ")\n",
    "\n",
    "# 메타 모델 생성\n",
    "meta_model = RidgeClassifier(random_state=42)\n",
    "\n",
    "# 스태킹 앙상블 모델 생성\n",
    "stacking_model = StackingClassifier(\n",
    "    estimators=[\n",
    "        ('rf', rf_base_model2),\n",
    "        ('xgb', xgb_base_model2),\n",
    "        ('lgb', lgb_base_model2)\n",
    "    ],\n",
    "    final_estimator=meta_model,\n",
    "    cv=5,\n",
    "    passthrough=True,\n",
    "    n_jobs=-1\n",
    ")\n",
    "\n",
    "# 모델 훈련\n",
    "stacking_model.fit(X_train_resampled, y_train_resampled)\n",
    "\n",
    "# 예측\n",
    "y_pred = stacking_model.predict(X_test_scaled)\n",
    "\n",
    "# 성능 지표 계산\n",
    "stacking_confusion_matrix = confusion_matrix(y_test,y_pred)\n",
    "stacking_accuracy = accuracy_score(y_test, y_pred)\n",
    "stacking_precision = precision_score(y_test, y_pred, average='macro')\n",
    "stacking_recall = recall_score(y_test, y_pred, average='macro')\n",
    "stacking_macro_f1 = f1_score(y_test, y_pred, average='macro')\n",
    "stacking_weighted_f1 = f1_score(y_test, y_pred, average='weighted')\n",
    "stacking_auc_roc = None # ridge는 proba를 제공 안함\n",
    "\n",
    "# 결과 출력\n",
    "print(stacking_confusion_matrix)\n",
    "print(f\"Accuracy: {stacking_accuracy:.4f}\")\n",
    "print(f\"Precision (macro): {stacking_precision:.4f}\")\n",
    "print(f\"Recall (macro): {stacking_recall:.4f}\")\n",
    "print(f\"Macro-F1: {stacking_macro_f1:.4f}\")\n",
    "print(f\"Weighted-F1: {stacking_weighted_f1:.4f}\")"
   ]
  },
  {
   "cell_type": "markdown",
   "id": "0546f72d",
   "metadata": {},
   "source": [
    "## 09. 모델링 결과 확인\n",
    "- Accuracy\n",
    "- Precision\n",
    "- Recall\n",
    "- F1-score\n",
    "- AUC-ROC"
   ]
  },
  {
   "cell_type": "markdown",
   "id": "661a4e81",
   "metadata": {},
   "source": [
    "#### Accuracy"
   ]
  },
  {
   "cell_type": "code",
   "execution_count": 29,
   "id": "652b314b",
   "metadata": {},
   "outputs": [
    {
     "name": "stdout",
     "output_type": "stream",
     "text": [
      "LogisticRegression :  0.666314119513485\n",
      "RandomForest :  0.7727833597743698\n",
      "XGBoost :  0.8187907632645867\n",
      "LightGBM :  0.8246077912920853\n",
      "Voting :  0.8194958575709501\n",
      "Stacking :  0.7995769434161819\n"
     ]
    }
   ],
   "source": [
    "print(\"LogisticRegression : \", lr_accuracy)\n",
    "print(\"RandomForest : \", rf_accuracy)\n",
    "print(\"XGBoost : \", xgb_accuracy)\n",
    "print(\"LightGBM : \", lgb_accuracy)\n",
    "print(\"Voting : \", voting_accuracy)\n",
    "print(\"Stacking : \", stacking_accuracy)"
   ]
  },
  {
   "cell_type": "markdown",
   "id": "72920515",
   "metadata": {},
   "source": [
    "#### Precision"
   ]
  },
  {
   "cell_type": "code",
   "execution_count": 30,
   "id": "d7c8bfe9",
   "metadata": {},
   "outputs": [
    {
     "name": "stdout",
     "output_type": "stream",
     "text": [
      "LogisticRegression :  0.5075586092392792\n",
      "RandomForest :  0.6144188356309312\n",
      "XGBoost :  0.6153753455761135\n",
      "LightGBM :  0.6300750047619808\n",
      "Voting :  0.6121929406693827\n",
      "Stacking :  0.6098237948312442\n"
     ]
    }
   ],
   "source": [
    "print(\"LogisticRegression : \", lr_precision)\n",
    "print(\"RandomForest : \", rf_precision)\n",
    "print(\"XGBoost : \", xgb_precision)\n",
    "print(\"LightGBM : \", lgb_precision)\n",
    "print(\"Voting : \", voting_precision)\n",
    "print(\"Stacking : \", stacking_precision)"
   ]
  },
  {
   "cell_type": "markdown",
   "id": "989b10e0",
   "metadata": {},
   "source": [
    "#### Recall"
   ]
  },
  {
   "cell_type": "code",
   "execution_count": 31,
   "id": "4add299c",
   "metadata": {},
   "outputs": [
    {
     "name": "stdout",
     "output_type": "stream",
     "text": [
      "LogisticRegression :  0.5709978259689243\n",
      "RandomForest :  0.7706154674970264\n",
      "XGBoost :  0.6253040327895943\n",
      "LightGBM :  0.6405486689737127\n",
      "Voting :  0.631294555283757\n",
      "Stacking :  0.6981971353695721\n"
     ]
    }
   ],
   "source": [
    "print(\"LogisticRegression : \", lr_recall)\n",
    "print(\"RandomForest : \", rf_recall)\n",
    "print(\"XGBoost : \", xgb_recall)\n",
    "print(\"LightGBM : \", lgb_recall)\n",
    "print(\"Voting : \", voting_recall)\n",
    "print(\"Stacking : \", stacking_recall)"
   ]
  },
  {
   "cell_type": "markdown",
   "id": "e3cdcf31",
   "metadata": {},
   "source": [
    "#### Macro F1-score"
   ]
  },
  {
   "cell_type": "code",
   "execution_count": 32,
   "id": "e54bfe1e",
   "metadata": {},
   "outputs": [
    {
     "name": "stdout",
     "output_type": "stream",
     "text": [
      "LogisticRegression :  0.5084013411249104\n",
      "RandomForest :  0.6539209946028557\n",
      "XGBoost :  0.6176890729627609\n",
      "LightGBM :  0.629887898550356\n",
      "Voting :  0.6179350026060106\n",
      "Stacking :  0.6437309722254956\n"
     ]
    }
   ],
   "source": [
    "print(\"LogisticRegression : \", lr_macro_f1)\n",
    "print(\"RandomForest : \", rf_macro_f1)\n",
    "print(\"XGBoost : \", xgb_macro_f1)\n",
    "print(\"LightGBM : \", lgb_macro_f1)\n",
    "print(\"Voting : \", voting_macro_f1)\n",
    "print(\"Stacking : \", stacking_macro_f1)"
   ]
  },
  {
   "cell_type": "markdown",
   "id": "1783bfd6",
   "metadata": {},
   "source": [
    "#### Weighted F1-score"
   ]
  },
  {
   "cell_type": "code",
   "execution_count": null,
   "id": "c56c8eeb",
   "metadata": {},
   "outputs": [],
   "source": [
    "print(\"LogisticRegression : \", lr_weighted_f1)\n",
    "print(\"RandomForest : \", rf_weighted_f1)\n",
    "print(\"XGBoost : \", xgb_weighted_f1)\n",
    "print(\"LightGBM : \", lgb_weighted_f1)\n",
    "print(\"Voting : \", voting_weighted_f1)\n",
    "print(\"Stacking : \", stacking_weighted_f1)"
   ]
  },
  {
   "cell_type": "markdown",
   "id": "2c23def0",
   "metadata": {},
   "source": [
    "#### AUC-ROC"
   ]
  },
  {
   "cell_type": "code",
   "execution_count": 33,
   "id": "aae36934",
   "metadata": {},
   "outputs": [
    {
     "name": "stdout",
     "output_type": "stream",
     "text": [
      "LogisticRegression :  0.839962830811422\n",
      "RandomForest :  0.928567849781225\n",
      "XGBoost :  0.932792385123473\n",
      "LightGBM :  0.936946064177827\n",
      "Voting :  0.9394848685941182\n",
      "Stacking :  None\n"
     ]
    }
   ],
   "source": [
    "print(\"LogisticRegression : \", lr_auc_roc)\n",
    "print(\"RandomForest : \", rf_auc_roc)\n",
    "print(\"XGBoost : \", xgb_auc_roc)\n",
    "print(\"LightGBM : \", lgb_auc_roc)\n",
    "print(\"Voting : \", voting_auc_roc)\n",
    "print(\"Stacking : \", stacking_auc_roc)"
   ]
  },
  {
   "cell_type": "markdown",
   "id": "563f4662",
   "metadata": {},
   "source": [
    "# 10. 데이터 저장"
   ]
  },
  {
   "cell_type": "code",
   "execution_count": 34,
   "id": "2d48e31d",
   "metadata": {},
   "outputs": [],
   "source": [
    "first_df = pd.read_excel(\"data/전처리후데이터셋.xlsx\")\n",
    "\n",
    "first_df['회계년도'] = first_df['회계년도'].str.split('/').str[0].astype(int)\n",
    "first_df = first_df.sort_values([\"회사명\",\"회계년도\"],ascending=True)"
   ]
  },
  {
   "cell_type": "code",
   "execution_count": 35,
   "id": "9cf589a4",
   "metadata": {},
   "outputs": [],
   "source": [
    "first_df['target_class'] = 0 # 슬라이딩 윈도우를 위한 임의의 수 삽입\n",
    "\n",
    "test_X_windowed, test_y_windowed, window_years, window_companies = create_grouped_sliding_windows(\n",
    "    first_df,\n",
    "    feature_columns,\n",
    "    'target_class',\n",
    "    WINDOW_SIZE\n",
    ")\n",
    "\n",
    "split_year = 2019\n",
    "\n",
    "predict_X = test_X_windowed[window_years > split_year]\n",
    "\n",
    "scaled_predict_X = scaler.transform(predict_X)"
   ]
  },
  {
   "cell_type": "code",
   "execution_count": 36,
   "id": "4af61151",
   "metadata": {},
   "outputs": [],
   "source": [
    "y_pred = rf_model.predict(scaled_predict_X)\n",
    "\n",
    "predict_y = pd.DataFrame({\n",
    "    '회사명': window_companies[window_years > split_year],\n",
    "    '회계년도': window_years[window_years > split_year],\n",
    "    'target_pred': y_pred\n",
    "})"
   ]
  },
  {
   "cell_type": "code",
   "execution_count": 37,
   "id": "4e9d2e2c",
   "metadata": {},
   "outputs": [],
   "source": [
    "predict_y.to_excel(\"data/predict.xlsx\",index=False)"
   ]
  },
  {
   "cell_type": "code",
   "execution_count": null,
   "id": "f80172a5",
   "metadata": {},
   "outputs": [],
   "source": []
  }
 ],
 "metadata": {
  "kernelspec": {
   "display_name": "Python 3",
   "language": "python",
   "name": "python3"
  },
  "language_info": {
   "codemirror_mode": {
    "name": "ipython",
    "version": 3
   },
   "file_extension": ".py",
   "mimetype": "text/x-python",
   "name": "python",
   "nbconvert_exporter": "python",
   "pygments_lexer": "ipython3",
   "version": "3.11.2"
  }
 },
 "nbformat": 4,
 "nbformat_minor": 5
}
