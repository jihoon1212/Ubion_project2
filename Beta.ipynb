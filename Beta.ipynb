{
 "cells": [
  {
   "cell_type": "markdown",
   "id": "c8bde41c",
   "metadata": {},
   "source": [
    "## 01. 라이브러리 로드"
   ]
  },
  {
   "cell_type": "code",
   "execution_count": 1,
   "id": "d0396d49",
   "metadata": {},
   "outputs": [],
   "source": [
    "import numpy as np\n",
    "import pandas as pd\n",
    "import matplotlib.pyplot as plt\n",
    "import seaborn as sns\n",
    "from pykrx import stock\n",
    "import time"
   ]
  },
  {
   "cell_type": "markdown",
   "id": "38ed0d05",
   "metadata": {},
   "source": [
    "## 02. 데이터 로드\n",
    "- k_df1 : 2011 ~ 2024 티커, 로그수익률, 연도\n",
    "- k_df2 : 2012 ~ 2024, 날짜, kospi_log_return, kosdqa_log_return "
   ]
  },
  {
   "cell_type": "code",
   "execution_count": 11,
   "id": "894105c2",
   "metadata": {},
   "outputs": [],
   "source": [
    "k_df1 = pd.read_csv('data/krx/KOSPI_KOSDAQ_log_returns_2011_2024.csv')\n",
    "k_df2 =  pd.read_csv('data/krx/KOSPI_KOSDAQ_log_returns_2012_2024.csv')"
   ]
  },
  {
   "cell_type": "markdown",
   "id": "0090f6a9",
   "metadata": {},
   "source": [
    "#### k_df1을 기준으로 left 조인"
   ]
  },
  {
   "cell_type": "code",
   "execution_count": 12,
   "id": "389a9fdc",
   "metadata": {},
   "outputs": [],
   "source": [
    "df = pd.merge(k_df1, k_df2, on=['날짜'], how='left')"
   ]
  },
  {
   "cell_type": "markdown",
   "id": "8abe9d83",
   "metadata": {},
   "source": [
    "## 03. 시장구분 컬럼을 위해 티커 수집\n",
    "- 연도 범위 설정\n",
    "- 티커를 키로 시장 구분을 값으로 딕셔너리 생성\n",
    "- 각 연도를 순회하며 티커와 시장 정보 수집\n",
    "- 최종 결과 DataFrame으로 변환"
   ]
  },
  {
   "cell_type": "code",
   "execution_count": 14,
   "id": "f41d8c5c",
   "metadata": {},
   "outputs": [
    {
     "name": "stdout",
     "output_type": "stream",
     "text": [
      "2012년부터 2024년까지 모든 상장 종목과 시장 정보를 수집합니다.\n",
      "--------------------------------------------------\n",
      "2012년 기준 종목 수집 중...\n",
      "2013년 기준 종목 수집 중...\n",
      "2014년 기준 종목 수집 중...\n",
      "2015년 기준 종목 수집 중...\n",
      "2016년 기준 종목 수집 중...\n",
      "2017년 기준 종목 수집 중...\n",
      "2018년 기준 종목 수집 중...\n",
      "2019년 기준 종목 수집 중...\n",
      "2020년 기준 종목 수집 중...\n",
      "2021년 기준 종목 수집 중...\n",
      "2022년 기준 종목 수집 중...\n",
      "2023년 기준 종목 수집 중...\n",
      "2024년 기준 종목 수집 중...\n",
      "--------------------------------------------------\n",
      "모든 정보 수집 완료!\n"
     ]
    }
   ],
   "source": [
    "years = range(2012, 2025) # 2012년부터 2024년까지\n",
    "\n",
    "ticker_market_map = {}\n",
    "\n",
    "print(\"2012년부터 2024년까지 모든 상장 종목과 시장 정보를 수집합니다.\")\n",
    "print(\"-\" * 50)\n",
    "\n",
    "for year in years:\n",
    "    base_date = f\"{year}0101\"\n",
    "    \n",
    "    try:\n",
    "        print(f\"{year}년 기준 종목 수집 중...\")\n",
    "        \n",
    "        # 코스피 티커 리스트 조회 및 딕셔너리에 추가\n",
    "        kospi_tickers = stock.get_market_ticker_list(date=base_date, market=\"KOSPI\")\n",
    "        for ticker in kospi_tickers:\n",
    "            ticker_market_map[ticker] = 'KOSPI'\n",
    "        \n",
    "        # 코스닥 티커 리스트 조회 및 딕셔너리에 추가\n",
    "        kosdaq_tickers = stock.get_market_ticker_list(date=base_date, market=\"KOSDAQ\")\n",
    "        for ticker in kosdaq_tickers:\n",
    "            ticker_market_map[ticker] = 'KOSDAQ'\n",
    "            \n",
    "        time.sleep(0.5) # 서버 부하 방지를 위한 지연\n",
    "\n",
    "    except Exception as e:\n",
    "        print(f\"{year}년 데이터 수집 중 오류 발생: {e}\")\n",
    "\n",
    "print(\"-\" * 50)\n",
    "print(\"모든 정보 수집 완료!\")\n",
    "\n",
    "\n",
    "# 딕셔너리의 아이템들을 리스트로 만들어 데이터프레임 생성\n",
    "df_all_tickers = pd.DataFrame(\n",
    "    list(ticker_market_map.items()),\n",
    "    columns=['티커', '시장구분']\n",
    ")\n",
    "\n",
    "# 티커 번호 순으로 정렬\n",
    "df_all_tickers = df_all_tickers.sort_values(by='티커').reset_index(drop=True)"
   ]
  },
  {
   "cell_type": "markdown",
   "id": "8bfc27f3",
   "metadata": {},
   "source": [
    "#### 시장구분 컬럼 생성"
   ]
  },
  {
   "cell_type": "code",
   "execution_count": 15,
   "id": "54cb9a52",
   "metadata": {},
   "outputs": [],
   "source": [
    "df['시장구분'] = df['티커'].map(ticker_market_map)"
   ]
  },
  {
   "cell_type": "markdown",
   "id": "d47f5f50",
   "metadata": {},
   "source": [
    "#### 시장_로그수익률 컬럼 생성\n",
    "- 로그수익률, 시장_로그수익률 결측치 제거"
   ]
  },
  {
   "cell_type": "code",
   "execution_count": 16,
   "id": "f320b2ef",
   "metadata": {},
   "outputs": [],
   "source": [
    "df['시장_로그수익률'] = np.where(\n",
    "    df['시장구분'] == 'KOSPI',  # 만약 '시장구분'이 'KOSPI'이면\n",
    "    df['KOSPI_log_return'],        # 코스피 수익률을 적용하고\n",
    "    df['KOSDAQ_log_return']         # 그렇지 않으면 코스닥 수익률을 적용\n",
    ")\n",
    "\n",
    "df.dropna(subset=['로그수익률', '시장_로그수익률'], inplace=True)"
   ]
  },
  {
   "cell_type": "markdown",
   "id": "2e9e4707",
   "metadata": {},
   "source": [
    "#### 날짜 컬럼 재정의"
   ]
  },
  {
   "cell_type": "code",
   "execution_count": 17,
   "id": "31edc4cd",
   "metadata": {},
   "outputs": [],
   "source": [
    "df['날짜'] = pd.to_datetime(df['날짜'])\n",
    "df.set_index('날짜', inplace=True)"
   ]
  },
  {
   "cell_type": "markdown",
   "id": "d93fd424",
   "metadata": {},
   "source": [
    "## 04. 베타 계산\n",
    "- 각 날짜가 어떤 기간에 속하는지 라벨링 (4월 말 기준)\n",
    "- 각 기간에 해당하는 실제 기간 시작일 매핑"
   ]
  },
  {
   "cell_type": "code",
   "execution_count": 18,
   "id": "c4c9e66e",
   "metadata": {},
   "outputs": [],
   "source": [
    "# 각 날짜가 어떤 '기간'에 속하는지 라벨링 (4월 말 기준)\n",
    "period_year = np.where(df.index.month > 4, df.index.year, df.index.year - 1)\n",
    "df['period_year'] = period_year\n",
    "\n",
    "# 각 period_year에 해당하는 실제 '기간 시작일' 매핑\n",
    "period_start_dates = {\n",
    "    year: pd.to_datetime(f'{year}-04-01') + pd.offsets.BMonthEnd()\n",
    "    for year in range(df['period_year'].min(), df['period_year'].max() + 1)\n",
    "}\n",
    "df['period_start_date'] = df['period_year'].map(period_start_dates)"
   ]
  },
  {
   "cell_type": "markdown",
   "id": "cbaf0b93",
   "metadata": {},
   "source": [
    "#### 베타 계산을 위한 calculate_beta 함수 정의\n",
    "- 공분산 계산\n",
    "- 시장 분산 계산\n",
    "- 베타 계산"
   ]
  },
  {
   "cell_type": "code",
   "execution_count": 19,
   "id": "7e1f3c22",
   "metadata": {},
   "outputs": [],
   "source": [
    "def calculate_beta(group):\n",
    "    # 공분산과 분산을 계산하기에 데이터가 충분한지 확인 (최소 2개)\n",
    "    if len(group) < 2:\n",
    "        return np.nan\n",
    "    # 공분산 계산\n",
    "    covariance = group['로그수익률'].cov(group['시장_로그수익률'])\n",
    "    # 시장 분산 계산\n",
    "    market_variance = group['시장_로그수익률'].var()\n",
    "    \n",
    "    # 시장 분산이 0인 경우 베타 계산 불가\n",
    "    if market_variance == 0:\n",
    "        return np.nan\n",
    "    # 베타 계산    \n",
    "    beta = covariance / market_variance\n",
    "    return beta"
   ]
  },
  {
   "cell_type": "markdown",
   "id": "8656983a",
   "metadata": {},
   "source": [
    "#### 기간 시작일과 티커로 그룹화 후 베타 계산"
   ]
  },
  {
   "cell_type": "code",
   "execution_count": 20,
   "id": "3d244284",
   "metadata": {},
   "outputs": [
    {
     "name": "stderr",
     "output_type": "stream",
     "text": [
      "C:\\Users\\tmddn\\AppData\\Local\\Temp\\ipykernel_15252\\648155991.py:1: DeprecationWarning: DataFrameGroupBy.apply operated on the grouping columns. This behavior is deprecated, and in a future version of pandas the grouping columns will be excluded from the operation. Either pass `include_groups=False` to exclude the groupings or explicitly select the grouping columns after groupby to silence this warning.\n",
      "  beta_results = df.groupby(['period_start_date', '티커']).apply(calculate_beta)\n"
     ]
    }
   ],
   "source": [
    "beta_results = df.groupby(['period_start_date', '티커']).apply(calculate_beta)"
   ]
  },
  {
   "cell_type": "markdown",
   "id": "d42bb407",
   "metadata": {},
   "source": [
    "## 05. 결과 확인 및 데이터 저장\n",
    "- 시작일 : 컬럼명 재정의\n",
    "- 종료일 : 시작일에 1년을 더해 종료일 생성\n",
    "- 컬럼 순서 정리"
   ]
  },
  {
   "cell_type": "code",
   "execution_count": 21,
   "id": "67dfd719",
   "metadata": {},
   "outputs": [
    {
     "data": {
      "text/html": [
       "<div>\n",
       "<style scoped>\n",
       "    .dataframe tbody tr th:only-of-type {\n",
       "        vertical-align: middle;\n",
       "    }\n",
       "\n",
       "    .dataframe tbody tr th {\n",
       "        vertical-align: top;\n",
       "    }\n",
       "\n",
       "    .dataframe thead th {\n",
       "        text-align: right;\n",
       "    }\n",
       "</style>\n",
       "<table border=\"1\" class=\"dataframe\">\n",
       "  <thead>\n",
       "    <tr style=\"text-align: right;\">\n",
       "      <th></th>\n",
       "      <th>시작일</th>\n",
       "      <th>종료일</th>\n",
       "      <th>티커</th>\n",
       "      <th>베타</th>\n",
       "    </tr>\n",
       "  </thead>\n",
       "  <tbody>\n",
       "    <tr>\n",
       "      <th>0</th>\n",
       "      <td>2011-04-29</td>\n",
       "      <td>2012-04-30</td>\n",
       "      <td>000060</td>\n",
       "      <td>0.666369</td>\n",
       "    </tr>\n",
       "    <tr>\n",
       "      <th>1</th>\n",
       "      <td>2011-04-29</td>\n",
       "      <td>2012-04-30</td>\n",
       "      <td>000327</td>\n",
       "      <td>-0.047741</td>\n",
       "    </tr>\n",
       "    <tr>\n",
       "      <th>2</th>\n",
       "      <td>2011-04-29</td>\n",
       "      <td>2012-04-30</td>\n",
       "      <td>000360</td>\n",
       "      <td>0.619235</td>\n",
       "    </tr>\n",
       "    <tr>\n",
       "      <th>3</th>\n",
       "      <td>2011-04-29</td>\n",
       "      <td>2012-04-30</td>\n",
       "      <td>000365</td>\n",
       "      <td>0.286917</td>\n",
       "    </tr>\n",
       "    <tr>\n",
       "      <th>4</th>\n",
       "      <td>2011-04-29</td>\n",
       "      <td>2012-04-30</td>\n",
       "      <td>000420</td>\n",
       "      <td>0.728451</td>\n",
       "    </tr>\n",
       "    <tr>\n",
       "      <th>...</th>\n",
       "      <td>...</td>\n",
       "      <td>...</td>\n",
       "      <td>...</td>\n",
       "      <td>...</td>\n",
       "    </tr>\n",
       "    <tr>\n",
       "      <th>30846</th>\n",
       "      <td>2024-04-30</td>\n",
       "      <td>2025-04-30</td>\n",
       "      <td>950170</td>\n",
       "      <td>0.389944</td>\n",
       "    </tr>\n",
       "    <tr>\n",
       "      <th>30847</th>\n",
       "      <td>2024-04-30</td>\n",
       "      <td>2025-04-30</td>\n",
       "      <td>950190</td>\n",
       "      <td>0.565052</td>\n",
       "    </tr>\n",
       "    <tr>\n",
       "      <th>30848</th>\n",
       "      <td>2024-04-30</td>\n",
       "      <td>2025-04-30</td>\n",
       "      <td>950200</td>\n",
       "      <td>0.838629</td>\n",
       "    </tr>\n",
       "    <tr>\n",
       "      <th>30849</th>\n",
       "      <td>2024-04-30</td>\n",
       "      <td>2025-04-30</td>\n",
       "      <td>950210</td>\n",
       "      <td>1.088839</td>\n",
       "    </tr>\n",
       "    <tr>\n",
       "      <th>30850</th>\n",
       "      <td>2024-04-30</td>\n",
       "      <td>2025-04-30</td>\n",
       "      <td>950220</td>\n",
       "      <td>0.904010</td>\n",
       "    </tr>\n",
       "  </tbody>\n",
       "</table>\n",
       "<p>30851 rows × 4 columns</p>\n",
       "</div>"
      ],
      "text/plain": [
       "             시작일        종료일      티커        베타\n",
       "0     2011-04-29 2012-04-30  000060  0.666369\n",
       "1     2011-04-29 2012-04-30  000327 -0.047741\n",
       "2     2011-04-29 2012-04-30  000360  0.619235\n",
       "3     2011-04-29 2012-04-30  000365  0.286917\n",
       "4     2011-04-29 2012-04-30  000420  0.728451\n",
       "...          ...        ...     ...       ...\n",
       "30846 2024-04-30 2025-04-30  950170  0.389944\n",
       "30847 2024-04-30 2025-04-30  950190  0.565052\n",
       "30848 2024-04-30 2025-04-30  950200  0.838629\n",
       "30849 2024-04-30 2025-04-30  950210  1.088839\n",
       "30850 2024-04-30 2025-04-30  950220  0.904010\n",
       "\n",
       "[30851 rows x 4 columns]"
      ]
     },
     "execution_count": 21,
     "metadata": {},
     "output_type": "execute_result"
    }
   ],
   "source": [
    "results_df = beta_results.reset_index(name='베타')\n",
    "results_df.rename(columns={'period_start_date': '시작일'}, inplace=True)\n",
    "\n",
    "# 시작일에 1년을 더해 종료일 생성 (4월 말 기준)\n",
    "results_df['종료일'] = results_df['시작일'].apply(\n",
    "    lambda date: pd.to_datetime(f'{date.year + 1}-04-01') + pd.offsets.BMonthEnd()\n",
    ")\n",
    "results_df = results_df[['시작일', '종료일', '티커', '베타']]\n",
    "results_df"
   ]
  },
  {
   "cell_type": "markdown",
   "id": "e62f90e7",
   "metadata": {},
   "source": [
    "#### 컬럼 맞추기\n",
    "- 회계년도 : 시작일의 년도 추출하여 생성\n",
    "- 시작일과, 종료일 컬럼 제거"
   ]
  },
  {
   "cell_type": "code",
   "execution_count": 22,
   "id": "194e9e25",
   "metadata": {},
   "outputs": [],
   "source": [
    "results_df['회계년도'] = results_df['시작일'].dt.year\n",
    "results_df.drop(columns=['시작일', '종료일'], inplace=True)\n",
    "results_df.sort_values(by=['티커', '회계년도'], inplace=True)"
   ]
  },
  {
   "cell_type": "markdown",
   "id": "99719ae0",
   "metadata": {},
   "source": [
    "#### 데이터 저장"
   ]
  },
  {
   "cell_type": "code",
   "execution_count": 24,
   "id": "2e5769fe",
   "metadata": {},
   "outputs": [],
   "source": [
    "results_df.to_excel(\"data/krx/beta.xlsx\", index=False)"
   ]
  },
  {
   "cell_type": "code",
   "execution_count": null,
   "id": "4df92a17",
   "metadata": {},
   "outputs": [],
   "source": []
  }
 ],
 "metadata": {
  "kernelspec": {
   "display_name": "Python 3",
   "language": "python",
   "name": "python3"
  },
  "language_info": {
   "codemirror_mode": {
    "name": "ipython",
    "version": 3
   },
   "file_extension": ".py",
   "mimetype": "text/x-python",
   "name": "python",
   "nbconvert_exporter": "python",
   "pygments_lexer": "ipython3",
   "version": "3.11.2"
  }
 },
 "nbformat": 4,
 "nbformat_minor": 5
}
