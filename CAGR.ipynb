{
 "cells": [
  {
   "cell_type": "markdown",
   "id": "58d59b26",
   "metadata": {},
   "source": [
    "## 01. 라이브러리 로드"
   ]
  },
  {
   "cell_type": "code",
   "execution_count": 10,
   "id": "761c2330",
   "metadata": {},
   "outputs": [],
   "source": [
    "import pandas as pd\n",
    "import numpy as np"
   ]
  },
  {
   "cell_type": "markdown",
   "id": "d3a94da3",
   "metadata": {},
   "source": [
    "## 02. 데이터 로드 및 정제"
   ]
  },
  {
   "cell_type": "code",
   "execution_count": 11,
   "id": "6345c66b",
   "metadata": {},
   "outputs": [],
   "source": [
    "df = pd.read_excel('data/krx/daily_close_2011_2024_04.xlsx')"
   ]
  },
  {
   "cell_type": "markdown",
   "id": "b89b86c0",
   "metadata": {},
   "source": [
    "#### 데이터 정제\n",
    "- CAGR 계산에 사용할 컬럼 지정\n",
    "- 컬럼에 결측치가 있거나 숫자로 변환할 수 없는 행 제거"
   ]
  },
  {
   "cell_type": "code",
   "execution_count": 12,
   "id": "1f65c521",
   "metadata": {},
   "outputs": [],
   "source": [
    "COMPANY_COL = '거래소코드'       # 회사명 컬럼\n",
    "YEAR_COL = '회계년도'       # 회계년도 컬럼\n",
    "PRICE_COL = '수정종가'      # CAGR 계산에 사용할 가격 컬럼\n",
    "\n",
    "essential_cols = [COMPANY_COL, YEAR_COL, PRICE_COL]\n",
    "df.dropna(subset=essential_cols, inplace=True)\n",
    "df[PRICE_COL] = pd.to_numeric(df[PRICE_COL], errors='coerce')\n",
    "df[YEAR_COL] = pd.to_numeric(df[YEAR_COL], errors='coerce')\n",
    "df.dropna(subset=[PRICE_COL, YEAR_COL], inplace=True)\n",
    "df[YEAR_COL] = df[YEAR_COL].astype(int)"
   ]
  },
  {
   "cell_type": "markdown",
   "id": "a688fe77",
   "metadata": {},
   "source": [
    "## 03. CAGR 계산\n",
    "- 최종 결과를 위한 빈 리스트 생성\n",
    "- 회사명 그룹을 묶어 각 회사에 대해 반복\n",
    "    - 기준이 되는 시작 시점의 정보 고정\n",
    "    - 두번쨰 해부터 마지막 해까지 각 해를 대상년도를 설정하여 반복\n",
    "        - 기간 계산 (대상년도 - 시작년도)\n",
    "        - CAGR 계산\n",
    "        - 리스트 추가\n",
    "- DataFrame 변환"
   ]
  },
  {
   "cell_type": "code",
   "execution_count": 13,
   "id": "8fd86952",
   "metadata": {},
   "outputs": [],
   "source": [
    "results_list = []\n",
    "\n",
    "# '회사명'으로 그룹을 묶어 각 회사에 대해 반복\n",
    "for company_name, group in df.groupby(COMPANY_COL):\n",
    "\n",
    "    group = group.sort_values(by=YEAR_COL)\n",
    "    \n",
    "    # 데이터가 2년 치 이상 있어야 계산이 가능\n",
    "    if len(group) < 2:\n",
    "        continue\n",
    "\n",
    "    # 기준이 되는 시작 시점(첫 해)의 정보를 고정\n",
    "    start_row = group.iloc[0]\n",
    "    start_year = start_row[YEAR_COL]\n",
    "    start_price = start_row[PRICE_COL]\n",
    "\n",
    "    # 두 번째 해부터 마지막 해까지, 각 해를 '대상년도'로 설정하여 반복\n",
    "    for i in range(1, len(group)):\n",
    "        current_row = group.iloc[i]\n",
    "        current_year = current_row[YEAR_COL]\n",
    "        current_price = current_row[PRICE_COL]\n",
    "        \n",
    "        num_years = current_year - start_year\n",
    "        \n",
    "        # CAGR을 계산\n",
    "        cagr = np.nan\n",
    "        if num_years > 0 and start_price > 0:\n",
    "            cagr = (current_price / start_price) ** (1 / num_years) - 1\n",
    "\n",
    "        results_list.append({\n",
    "            '거래소코드': company_name,\n",
    "            '시작년도': start_year,\n",
    "            '대상년도': current_year,\n",
    "            'CAGR': cagr\n",
    "        })\n",
    "\n",
    "final_df = pd.DataFrame(results_list)"
   ]
  },
  {
   "cell_type": "markdown",
   "id": "45392bac",
   "metadata": {},
   "source": [
    "#### CAGR 컬럼 퍼센트(%)형식으로 변환"
   ]
  },
  {
   "cell_type": "code",
   "execution_count": 14,
   "id": "2a6dbb73",
   "metadata": {},
   "outputs": [],
   "source": [
    "if not final_df.empty:\n",
    "    final_df['CAGR'] = final_df['CAGR'].apply(\n",
    "        # x에 100을 곱한 값을 소수점 둘째 자리에서 반올림\n",
    "        lambda x: round(x * 100, 2) if pd.notna(x) else np.nan\n",
    "    )"
   ]
  },
  {
   "cell_type": "markdown",
   "id": "669f1dd0",
   "metadata": {},
   "source": [
    "#### 시작년도 컬럼 삭제및 컬럼명 재정의"
   ]
  },
  {
   "cell_type": "code",
   "execution_count": 15,
   "id": "0127e240",
   "metadata": {},
   "outputs": [],
   "source": [
    "final_df.drop(columns=['시작년도'], inplace=True)\n",
    "final_df.rename(columns={'대상년도': '회계년도'}, inplace=True)\n",
    "final_df['회계년도'] = final_df['회계년도'] - 1"
   ]
  },
  {
   "cell_type": "markdown",
   "id": "08dc55f4",
   "metadata": {},
   "source": [
    "## 04. 데이터 저장"
   ]
  },
  {
   "cell_type": "code",
   "execution_count": 16,
   "id": "52767579",
   "metadata": {},
   "outputs": [],
   "source": [
    "final_df.to_excel('data/krx/누적_CAGR.xlsx', index=False)"
   ]
  },
  {
   "cell_type": "code",
   "execution_count": null,
   "id": "f67a1bb2",
   "metadata": {},
   "outputs": [],
   "source": []
  }
 ],
 "metadata": {
  "kernelspec": {
   "display_name": "Python 3",
   "language": "python",
   "name": "python3"
  },
  "language_info": {
   "codemirror_mode": {
    "name": "ipython",
    "version": 3
   },
   "file_extension": ".py",
   "mimetype": "text/x-python",
   "name": "python",
   "nbconvert_exporter": "python",
   "pygments_lexer": "ipython3",
   "version": "3.11.2"
  }
 },
 "nbformat": 4,
 "nbformat_minor": 5
}
