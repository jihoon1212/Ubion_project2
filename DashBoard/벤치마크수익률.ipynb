{
 "cells": [
  {
   "cell_type": "code",
   "execution_count": 1,
   "id": "539bf911",
   "metadata": {},
   "outputs": [
    {
     "name": "stdout",
     "output_type": "stream",
     "text": [
      "Requirement already satisfied: pykrx in c:\\users\\eogks\\appdata\\local\\programs\\python\\python313\\lib\\site-packages (1.0.48)\n",
      "Requirement already satisfied: requests in c:\\users\\eogks\\appdata\\local\\programs\\python\\python313\\lib\\site-packages (from pykrx) (2.32.3)\n",
      "Requirement already satisfied: pandas in c:\\users\\eogks\\appdata\\local\\programs\\python\\python313\\lib\\site-packages (from pykrx) (2.2.3)\n",
      "Requirement already satisfied: datetime in c:\\users\\eogks\\appdata\\local\\programs\\python\\python313\\lib\\site-packages (from pykrx) (5.5)\n",
      "Requirement already satisfied: numpy in c:\\users\\eogks\\appdata\\local\\programs\\python\\python313\\lib\\site-packages (from pykrx) (2.2.3)\n",
      "Requirement already satisfied: xlrd in c:\\users\\eogks\\appdata\\local\\programs\\python\\python313\\lib\\site-packages (from pykrx) (2.0.1)\n",
      "Requirement already satisfied: deprecated in c:\\users\\eogks\\appdata\\local\\programs\\python\\python313\\lib\\site-packages (from pykrx) (1.2.18)\n",
      "Requirement already satisfied: multipledispatch in c:\\users\\eogks\\appdata\\local\\programs\\python\\python313\\lib\\site-packages (from pykrx) (1.0.0)\n",
      "Requirement already satisfied: matplotlib in c:\\users\\eogks\\appdata\\local\\programs\\python\\python313\\lib\\site-packages (from pykrx) (3.10.1)\n",
      "Requirement already satisfied: zope.interface in c:\\users\\eogks\\appdata\\local\\programs\\python\\python313\\lib\\site-packages (from datetime->pykrx) (7.2)\n",
      "Requirement already satisfied: pytz in c:\\users\\eogks\\appdata\\local\\programs\\python\\python313\\lib\\site-packages (from datetime->pykrx) (2025.1)\n",
      "Requirement already satisfied: wrapt<2,>=1.10 in c:\\users\\eogks\\appdata\\local\\programs\\python\\python313\\lib\\site-packages (from deprecated->pykrx) (1.17.2)\n",
      "Requirement already satisfied: contourpy>=1.0.1 in c:\\users\\eogks\\appdata\\local\\programs\\python\\python313\\lib\\site-packages (from matplotlib->pykrx) (1.3.1)\n",
      "Requirement already satisfied: cycler>=0.10 in c:\\users\\eogks\\appdata\\local\\programs\\python\\python313\\lib\\site-packages (from matplotlib->pykrx) (0.12.1)\n",
      "Requirement already satisfied: fonttools>=4.22.0 in c:\\users\\eogks\\appdata\\local\\programs\\python\\python313\\lib\\site-packages (from matplotlib->pykrx) (4.56.0)\n",
      "Requirement already satisfied: kiwisolver>=1.3.1 in c:\\users\\eogks\\appdata\\local\\programs\\python\\python313\\lib\\site-packages (from matplotlib->pykrx) (1.4.8)\n",
      "Requirement already satisfied: packaging>=20.0 in c:\\users\\eogks\\appdata\\roaming\\python\\python313\\site-packages (from matplotlib->pykrx) (24.2)\n",
      "Requirement already satisfied: pillow>=8 in c:\\users\\eogks\\appdata\\local\\programs\\python\\python313\\lib\\site-packages (from matplotlib->pykrx) (11.1.0)\n",
      "Requirement already satisfied: pyparsing>=2.3.1 in c:\\users\\eogks\\appdata\\local\\programs\\python\\python313\\lib\\site-packages (from matplotlib->pykrx) (3.2.1)\n",
      "Requirement already satisfied: python-dateutil>=2.7 in c:\\users\\eogks\\appdata\\roaming\\python\\python313\\site-packages (from matplotlib->pykrx) (2.9.0.post0)\n",
      "Requirement already satisfied: tzdata>=2022.7 in c:\\users\\eogks\\appdata\\local\\programs\\python\\python313\\lib\\site-packages (from pandas->pykrx) (2025.1)\n",
      "Requirement already satisfied: charset-normalizer<4,>=2 in c:\\users\\eogks\\appdata\\local\\programs\\python\\python313\\lib\\site-packages (from requests->pykrx) (3.4.1)\n",
      "Requirement already satisfied: idna<4,>=2.5 in c:\\users\\eogks\\appdata\\local\\programs\\python\\python313\\lib\\site-packages (from requests->pykrx) (3.10)\n",
      "Requirement already satisfied: urllib3<3,>=1.21.1 in c:\\users\\eogks\\appdata\\local\\programs\\python\\python313\\lib\\site-packages (from requests->pykrx) (2.4.0)\n",
      "Requirement already satisfied: certifi>=2017.4.17 in c:\\users\\eogks\\appdata\\local\\programs\\python\\python313\\lib\\site-packages (from requests->pykrx) (2025.4.26)\n",
      "Requirement already satisfied: six>=1.5 in c:\\users\\eogks\\appdata\\roaming\\python\\python313\\site-packages (from python-dateutil>=2.7->matplotlib->pykrx) (1.17.0)\n",
      "Requirement already satisfied: setuptools in c:\\users\\eogks\\appdata\\local\\programs\\python\\python313\\lib\\site-packages (from zope.interface->datetime->pykrx) (80.3.0)\n",
      "Note: you may need to restart the kernel to use updated packages.\n"
     ]
    },
    {
     "name": "stderr",
     "output_type": "stream",
     "text": [
      "\n",
      "[notice] A new release of pip is available: 25.0.1 -> 25.1.1\n",
      "[notice] To update, run: python.exe -m pip install --upgrade pip\n"
     ]
    }
   ],
   "source": [
    "pip install pykrx"
   ]
  },
  {
   "cell_type": "code",
   "execution_count": 3,
   "id": "3767b828",
   "metadata": {},
   "outputs": [
    {
     "name": "stdout",
     "output_type": "stream",
     "text": [
      "   Year  KOSPI (%)  KOSDAQ (%)\n",
      "0  2017      21.78       26.32\n",
      "1  2018     -17.69      -16.84\n",
      "2  2019       9.34        0.07\n",
      "3  2020      32.10       43.68\n",
      "4  2021       1.13        5.77\n",
      "5  2022     -25.17      -34.55\n"
     ]
    }
   ],
   "source": [
    "from pykrx.stock import get_index_ohlcv_by_date\n",
    "import pandas as pd\n",
    "from datetime import datetime\n",
    "\n",
    "# 코스피와 코스닥의 KRX 코드\n",
    "index_dict = {\n",
    "    'KOSPI': '1001',\n",
    "    'KOSDAQ': '2001'\n",
    "}\n",
    "\n",
    "# 결과 저장용\n",
    "result = {\n",
    "    'Year': [],\n",
    "    'KOSPI (%)': [],\n",
    "    'KOSDAQ (%)': []\n",
    "}\n",
    "\n",
    "# 연도별로 수익률 계산\n",
    "for year in range(2017, 2023):\n",
    "    start_date = f\"{year}-01-01\"\n",
    "    end_date = f\"{year}-12-31\"\n",
    "    \n",
    "    result['Year'].append(year)\n",
    "    \n",
    "    for market, code in index_dict.items():\n",
    "        # 연도별 일별 시세 조회\n",
    "        df = get_index_ohlcv_by_date(start_date, end_date, code)\n",
    "        \n",
    "        if df.empty:\n",
    "            result[f'{market} (%)'].append(None)\n",
    "            continue\n",
    "        \n",
    "        # 첫 거래일 종가와 마지막 거래일 종가로 수익률 계산\n",
    "        start_price = df['종가'].iloc[0]\n",
    "        end_price = df['종가'].iloc[-1]\n",
    "        rate = (end_price / start_price - 1) * 100\n",
    "        \n",
    "        result[f'{market} (%)'].append(round(rate, 2))\n",
    "\n",
    "# 데이터프레임 출력\n",
    "df_result = pd.DataFrame(result)\n",
    "print(df_result)\n"
   ]
  },
  {
   "cell_type": "code",
   "execution_count": null,
   "id": "f1cedce2",
   "metadata": {},
   "outputs": [],
   "source": []
  }
 ],
 "metadata": {
  "kernelspec": {
   "display_name": "Python 3",
   "language": "python",
   "name": "python3"
  },
  "language_info": {
   "codemirror_mode": {
    "name": "ipython",
    "version": 3
   },
   "file_extension": ".py",
   "mimetype": "text/x-python",
   "name": "python",
   "nbconvert_exporter": "python",
   "pygments_lexer": "ipython3",
   "version": "3.13.3"
  }
 },
 "nbformat": 4,
 "nbformat_minor": 5
}
