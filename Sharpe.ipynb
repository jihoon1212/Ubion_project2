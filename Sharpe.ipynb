{
 "cells": [
  {
   "cell_type": "markdown",
   "id": "d2524658",
   "metadata": {},
   "source": [
    "## 01. 라이브러리 로드"
   ]
  },
  {
   "cell_type": "code",
   "execution_count": 1,
   "id": "08cebacb",
   "metadata": {},
   "outputs": [],
   "source": [
    "import numpy as np\n",
    "import pandas as pd\n",
    "import matplotlib.pyplot as plt\n",
    "import seaborn as sns\n",
    "from pykrx import stock\n",
    "import time"
   ]
  },
  {
   "cell_type": "markdown",
   "id": "8f8013e8",
   "metadata": {},
   "source": [
    "## 02. 데이터 로드"
   ]
  },
  {
   "cell_type": "code",
   "execution_count": 2,
   "id": "c94cb8a2",
   "metadata": {},
   "outputs": [],
   "source": [
    "df = pd.read_csv('data/krx/KOSPI_KOSDAQ_log_returns_2011_2024.csv')"
   ]
  },
  {
   "cell_type": "markdown",
   "id": "0f5fd43b",
   "metadata": {},
   "source": [
    "#### 날짜 컬럼 재정의"
   ]
  },
  {
   "cell_type": "code",
   "execution_count": 3,
   "id": "05abe0da",
   "metadata": {},
   "outputs": [],
   "source": [
    "df['날짜'] = pd.to_datetime(df['날짜'])\n",
    "df.set_index('날짜', inplace=True)"
   ]
  },
  {
   "cell_type": "markdown",
   "id": "c8604c34",
   "metadata": {},
   "source": [
    "#### 분석 기간 정의\n",
    "- 각 날짜가 어떤 기간에 속하는지 라벨링\n",
    "- 각 기간에 해당하는 기간 시작일(4월 마지막 영업일)을 매핑"
   ]
  },
  {
   "cell_type": "code",
   "execution_count": 4,
   "id": "c960b9d0",
   "metadata": {},
   "outputs": [],
   "source": [
    "# 각 날짜가 어떤 '기간'에 속하는지 라벨링\n",
    "period_year = np.where(df.index.month > 4, df.index.year, df.index.year - 1)\n",
    "df['period_year'] = period_year\n",
    "\n",
    "# 각 기간 해당하는 '기간 시작일'(4월 마지막 영업일)을 매핑\n",
    "period_start_dates = {\n",
    "    year: pd.to_datetime(f'{year}-04-01') + pd.offsets.BMonthEnd()\n",
    "    for year in range(df['period_year'].min(), df['period_year'].max() + 1)\n",
    "}\n",
    "df['period_start_date'] = df['period_year'].map(period_start_dates)"
   ]
  },
  {
   "cell_type": "markdown",
   "id": "765d9895",
   "metadata": {},
   "source": [
    "## 03. 샤프지수 계산\n",
    "- 기간별/티커별 일간 평균수익률과 일간변동성 계산\n",
    "- 계산된 통계량 연율화\n",
    "- 무위험수익률 생성 (2%)\n",
    "- 샤프지수 계산 : (연간수익률 - 무위험수익률) / 연간변동성"
   ]
  },
  {
   "cell_type": "code",
   "execution_count": 5,
   "id": "31af81bd",
   "metadata": {},
   "outputs": [],
   "source": [
    "grouped_stats = df.groupby(['period_start_date', '티커'])['로그수익률'].agg(['mean', 'std'])\n",
    "\n",
    "# 계산된 통계량을 연율화\n",
    "trading_days_per_year = 252\n",
    "grouped_stats['연간수익률'] = grouped_stats['mean'] * trading_days_per_year\n",
    "grouped_stats['연간변동성'] = grouped_stats['std'] * np.sqrt(trading_days_per_year)\n",
    "\n",
    "risk_free_rate = 0.02\n",
    "\n",
    "grouped_stats['샤프지수'] = (grouped_stats['연간수익률'] - risk_free_rate) / grouped_stats['연간변동성']"
   ]
  },
  {
   "cell_type": "markdown",
   "id": "d402ecf9",
   "metadata": {},
   "source": [
    "#### 결과에 필요한 컬럼 선택 및 재정의\n",
    "- 인덱스를 컬럼으로 변환\n",
    "- 종료일 컬럼 생성 (시작일로부터 1년 뒤 4월 말)\n",
    "- 결과에 필요한 컬럼 선택 및 순서 정리"
   ]
  },
  {
   "cell_type": "code",
   "execution_count": 6,
   "id": "e22ef3f0",
   "metadata": {},
   "outputs": [],
   "source": [
    "results_df = grouped_stats.reset_index()\n",
    "results_df.rename(columns={'period_start_date': '시작일'}, inplace=True)\n",
    "\n",
    "# '종료일' 컬럼 생성 (시작일로부터 1년 뒤 4월 말)\n",
    "results_df['종료일'] = results_df['시작일'].apply(\n",
    "    lambda date: pd.to_datetime(f'{date.year + 1}-04-01') + pd.offsets.BMonthEnd()\n",
    ")\n",
    "\n",
    "results_df = results_df[[\n",
    "    '시작일', \n",
    "    '종료일', \n",
    "    '티커', \n",
    "    '연간수익률', \n",
    "    '연간변동성', \n",
    "    '샤프지수'\n",
    "]]"
   ]
  },
  {
   "cell_type": "markdown",
   "id": "be4243fe",
   "metadata": {},
   "source": [
    "## 04. 데이터 저장\n",
    "- 회계년도 : 시작일에서 년도 추출해서 컬럼 생성\n",
    "- 시작일, 종료일 컬럼 제거"
   ]
  },
  {
   "cell_type": "code",
   "execution_count": 7,
   "id": "72372239",
   "metadata": {},
   "outputs": [],
   "source": [
    "results_df['회계년도'] = results_df['시작일'].dt.year\n",
    "results_df.drop(columns=['시작일', '종료일'], inplace=True)\n",
    "results_df.sort_values(by=['티커', '회계년도'], inplace=True)"
   ]
  },
  {
   "cell_type": "markdown",
   "id": "62028d2e",
   "metadata": {},
   "source": [
    "#### 데이터 저장"
   ]
  },
  {
   "cell_type": "code",
   "execution_count": 8,
   "id": "a5d71387",
   "metadata": {},
   "outputs": [],
   "source": [
    "results_df.to_excel(\"data/krx/sharpe.xlsx\", index=False)"
   ]
  },
  {
   "cell_type": "code",
   "execution_count": null,
   "id": "93c756d8",
   "metadata": {},
   "outputs": [],
   "source": []
  }
 ],
 "metadata": {
  "kernelspec": {
   "display_name": "Python 3",
   "language": "python",
   "name": "python3"
  },
  "language_info": {
   "codemirror_mode": {
    "name": "ipython",
    "version": 3
   },
   "file_extension": ".py",
   "mimetype": "text/x-python",
   "name": "python",
   "nbconvert_exporter": "python",
   "pygments_lexer": "ipython3",
   "version": "3.11.2"
  }
 },
 "nbformat": 4,
 "nbformat_minor": 5
}
