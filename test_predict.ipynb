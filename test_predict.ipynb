{
 "cells": [
  {
   "cell_type": "markdown",
   "id": "e3b169f0",
   "metadata": {},
   "source": [
    "## 01. 라이브러리 로드"
   ]
  },
  {
   "cell_type": "code",
   "execution_count": 231,
   "id": "21f1d735",
   "metadata": {},
   "outputs": [],
   "source": [
    "import pandas as pd\n",
    "import numpy as np"
   ]
  },
  {
   "cell_type": "markdown",
   "id": "125486dd",
   "metadata": {},
   "source": [
    "## 02. 데이터 로드\n",
    "- yearvolume : 티커, 연간변동성, 회계년도\n",
    "- cagr : 거래소코드, 회계년도, CAGR  \n",
    "- benchmark : 회사명, 거래소코드, 회계년도, 수정종가, 초과수익률, 수익률(%)\n",
    "- beta : 티커, 베타, 회계년도\n",
    "- sharpe : 티커, 연간수익률, 연간변동성, 샤프지수, 회계년도\n",
    "- original : 전처리 후 데이터셋\n",
    "- target : 회사명, 회계년도, target_pred"
   ]
  },
  {
   "cell_type": "code",
   "execution_count": 232,
   "id": "a63dbf61",
   "metadata": {},
   "outputs": [],
   "source": [
    "yearvolume = pd.read_excel('data/krx/연간변동성.xlsx')\n",
    "cagr = pd.read_excel('data/krx/누적_CAGR.xlsx')\n",
    "benchmark = pd.read_excel('data/krx/초과수익률.xlsx')\n",
    "beta = pd.read_excel('data/krx/beta.xlsx')\n",
    "sharpe = pd.read_excel('data/krx/sharpe.xlsx')\n",
    "original = pd.read_excel('data/전처리후데이터셋.xlsx')\n",
    "target = pd.read_excel('data/predict.xlsx')"
   ]
  },
  {
   "cell_type": "markdown",
   "id": "1a54ab12",
   "metadata": {},
   "source": [
    "## 03. 데이터 병결합을 위한 컬럼명 재정의 및 데이터 결합\n",
    "- original : 회사명, 거래소코드, 회계년도 컬럼 추출 및 재정의\n",
    "- target : 회사명, 회계년도, target_class 컬럼 추출"
   ]
  },
  {
   "cell_type": "code",
   "execution_count": 233,
   "id": "31042477",
   "metadata": {},
   "outputs": [],
   "source": [
    "original = original[['회사명', '거래소코드', '회계년도']]\n",
    "original['회계년도'] = original['회계년도'].astype(str).str[:4].astype(int)\n",
    "target = target[['회사명', '회계년도', 'target_pred']]"
   ]
  },
  {
   "cell_type": "markdown",
   "id": "ad0b06ce",
   "metadata": {},
   "source": [
    "#### original 기준으로 left 조인"
   ]
  },
  {
   "cell_type": "code",
   "execution_count": 234,
   "id": "08712b77",
   "metadata": {},
   "outputs": [],
   "source": [
    "df = pd.merge(original, target, on=['회사명', '회계년도'], how='left')"
   ]
  },
  {
   "cell_type": "markdown",
   "id": "bc70b305",
   "metadata": {},
   "source": [
    "#### 회계년도 기준 2019년 이후로 추출 후 target 변수 결측치 0으로 채우기"
   ]
  },
  {
   "cell_type": "code",
   "execution_count": 235,
   "id": "f5775f9d",
   "metadata": {},
   "outputs": [
    {
     "name": "stderr",
     "output_type": "stream",
     "text": [
      "C:\\Users\\tmddn\\AppData\\Local\\Temp\\ipykernel_13972\\829441471.py:2: FutureWarning: A value is trying to be set on a copy of a DataFrame or Series through chained assignment using an inplace method.\n",
      "The behavior will change in pandas 3.0. This inplace method will never work because the intermediate object on which we are setting values always behaves as a copy.\n",
      "\n",
      "For example, when doing 'df[col].method(value, inplace=True)', try using 'df.method({col: value}, inplace=True)' or df[col] = df[col].method(value) instead, to perform the operation inplace on the original object.\n",
      "\n",
      "\n",
      "  df['target_pred'].fillna(0, inplace=True)\n"
     ]
    }
   ],
   "source": [
    "df = df[df['회계년도'] > 2019]\n",
    "df['target_pred'].fillna(0, inplace=True)"
   ]
  },
  {
   "cell_type": "markdown",
   "id": "cf300744",
   "metadata": {},
   "source": [
    "#### merge_1\n",
    "- df와 benchmark 결합 : df 기준으로 left 조인 \n",
    "- 거래소코드 : str 변환\n",
    "- 회사명, 수정종가 컬럼 제거"
   ]
  },
  {
   "cell_type": "code",
   "execution_count": 236,
   "id": "254aaefc",
   "metadata": {},
   "outputs": [],
   "source": [
    "df['거래소코드'] = df['거래소코드'].astype(str).str.zfill(6)\n",
    "benchmark['거래소코드'] = benchmark['거래소코드'].astype(str).str.zfill(6)\n",
    "benchmark.drop(columns=['회사명', '수정종가'], inplace=True)\n",
    "merge_1 = pd.merge(df, benchmark, on=['거래소코드', '회계년도'], how='left')"
   ]
  },
  {
   "cell_type": "markdown",
   "id": "4c2d816c",
   "metadata": {},
   "source": [
    "#### merge_2\n",
    "- merge_1 과 yearvolumn 결합 : merge_1 기준으로 left 조인\n",
    "- 거래소코드 : 컬럼명 재정의"
   ]
  },
  {
   "cell_type": "code",
   "execution_count": 237,
   "id": "d4fb06b1",
   "metadata": {},
   "outputs": [],
   "source": [
    "yearvolume = yearvolume.rename(columns={'티커': '거래소코드'})\n",
    "merge_2 = pd.merge(merge_1, yearvolume, on=['거래소코드', '회계년도'], how='left')"
   ]
  },
  {
   "cell_type": "markdown",
   "id": "06165118",
   "metadata": {},
   "source": [
    "#### merge_3\n",
    "- merge_2 와 beta 결합 : merge_2 기준으로 left 조인\n",
    "- 거래소코드 : 컬럼명 재정의"
   ]
  },
  {
   "cell_type": "code",
   "execution_count": 238,
   "id": "557df4ee",
   "metadata": {},
   "outputs": [],
   "source": [
    "beta = beta.rename(columns={'티커': '거래소코드'})\n",
    "merge_3 = pd.merge(merge_2, beta, on=['거래소코드', '회계년도'], how='left')"
   ]
  },
  {
   "cell_type": "markdown",
   "id": "39eb368b",
   "metadata": {},
   "source": [
    "#### merge_4\n",
    "- merge_3과 sharpe 결합 : merge_3 기준으로 left 조인\n",
    "- 거래소코드 : 컬럼명 재정의\n",
    "- 샤프지수 : 무한대 값 -> 널 값으로 처리\n",
    "- 연간수익률, 연간변동성 컬럼 제거"
   ]
  },
  {
   "cell_type": "code",
   "execution_count": 239,
   "id": "ee03f5ab",
   "metadata": {},
   "outputs": [],
   "source": [
    "sharpe = sharpe.rename(columns={'티커': '거래소코드'})\n",
    "sharpe.drop(columns=['연간수익률', '연간변동성'], inplace=True)\n",
    "sharpe.replace([np.inf, -np.inf], np.nan, inplace=True)\n",
    "merge_4 = pd.merge(merge_3, sharpe, on=['거래소코드', '회계년도'], how='left')"
   ]
  },
  {
   "cell_type": "markdown",
   "id": "876df0b6",
   "metadata": {},
   "source": [
    "#### merge_5\n",
    "- merge_4와 cagr 결합 : merge_4 기준으로 left 조인"
   ]
  },
  {
   "cell_type": "code",
   "execution_count": 240,
   "id": "f5059152",
   "metadata": {},
   "outputs": [],
   "source": [
    "merge_5 = pd.merge(merge_4, cagr, on=['거래소코드', '회계년도'], how='left')"
   ]
  },
  {
   "cell_type": "markdown",
   "id": "68430cd3",
   "metadata": {},
   "source": [
    "#### 결측치 제거"
   ]
  },
  {
   "cell_type": "code",
   "execution_count": 241,
   "id": "9d02d28f",
   "metadata": {},
   "outputs": [],
   "source": [
    "merge_5.dropna(inplace=True)"
   ]
  },
  {
   "cell_type": "markdown",
   "id": "40c2a3aa",
   "metadata": {},
   "source": [
    "## 04. 데이터 저장\n",
    "- 중복행 제거 후 저장"
   ]
  },
  {
   "cell_type": "code",
   "execution_count": 245,
   "id": "9a721778",
   "metadata": {},
   "outputs": [],
   "source": [
    "key_cols = ['회사명', '거래소코드', '회계년도']\n",
    "\n",
    "merge_5 = merge_5.drop_duplicates(subset=key_cols)"
   ]
  },
  {
   "cell_type": "code",
   "execution_count": 246,
   "id": "97684dad",
   "metadata": {},
   "outputs": [],
   "source": [
    "merge_5.to_excel('data/test_predict.xlsx', index=False)"
   ]
  },
  {
   "cell_type": "code",
   "execution_count": null,
   "id": "5dc3fec1",
   "metadata": {},
   "outputs": [],
   "source": []
  }
 ],
 "metadata": {
  "kernelspec": {
   "display_name": "Python 3",
   "language": "python",
   "name": "python3"
  },
  "language_info": {
   "codemirror_mode": {
    "name": "ipython",
    "version": 3
   },
   "file_extension": ".py",
   "mimetype": "text/x-python",
   "name": "python",
   "nbconvert_exporter": "python",
   "pygments_lexer": "ipython3",
   "version": "3.11.2"
  }
 },
 "nbformat": 4,
 "nbformat_minor": 5
}
