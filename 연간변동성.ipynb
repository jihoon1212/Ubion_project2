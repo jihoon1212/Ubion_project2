{
 "cells": [
  {
   "cell_type": "markdown",
   "id": "c767c305",
   "metadata": {},
   "source": [
    "## 01. 라이브러리 로드"
   ]
  },
  {
   "cell_type": "code",
   "execution_count": null,
   "id": "852dc535",
   "metadata": {},
   "outputs": [],
   "source": [
    "import pandas as pd\n",
    "import numpy as np"
   ]
  },
  {
   "cell_type": "markdown",
   "id": "a996306c",
   "metadata": {},
   "source": [
    "## 02. 데이터 불러오기 및 정제"
   ]
  },
  {
   "cell_type": "code",
   "execution_count": 2,
   "id": "3c2be68f",
   "metadata": {},
   "outputs": [],
   "source": [
    "df = pd.read_csv(\"data/krx/KOSPI_KOSDAQ_log_returns_2011_2024.csv\", encoding='utf-8-sig')"
   ]
  },
  {
   "cell_type": "code",
   "execution_count": 3,
   "id": "83658c1e",
   "metadata": {},
   "outputs": [],
   "source": [
    "df['날짜'] = pd.to_datetime(df['날짜'])\n",
    "df.set_index('날짜', inplace=True)"
   ]
  },
  {
   "cell_type": "markdown",
   "id": "5008ccb8",
   "metadata": {},
   "source": [
    "## 03. 연간변동성 계산\n",
    "- 날짜가 어떤 기간에 속하는지 라벨링 ex) 2014년 3월은 2013년 4월말 시작 기간에 속함\n",
    "- 실제 기간 시작일을 매핑\n",
    "- 기간 시작일과 티커로 그룹화 후 계산\n",
    "- 결과 확인 후 데이터프레임으로 변환\n",
    "- 시작일에 1년을 더해 종료일 생성\n",
    "- 컬럼명 재정의"
   ]
  },
  {
   "cell_type": "code",
   "execution_count": 4,
   "id": "78572979",
   "metadata": {},
   "outputs": [
    {
     "name": "stdout",
     "output_type": "stream",
     "text": [
      "최적화된 계산 시작...\n",
      "계산 완료.\n"
     ]
    }
   ],
   "source": [
    "print(\"최적화된 계산 시작...\")\n",
    "\n",
    "# 각 날짜가 어떤 '기간'에 속하는지 라벨링합니다.\n",
    "period_year = np.where(df.index.month > 4, df.index.year, df.index.year - 1)\n",
    "df['period_year'] = period_year\n",
    "\n",
    "# 각 period_year에 해당하는 실제 '기간 시작일'을 매핑합니다.\n",
    "period_start_dates = {\n",
    "    year: pd.to_datetime(f'{year}-04-01') + pd.offsets.BMonthEnd()\n",
    "    for year in range(df['period_year'].min(), df['period_year'].max() + 1)\n",
    "}\n",
    "df['period_start_date'] = df['period_year'].map(period_start_dates)\n",
    "\n",
    "\n",
    "# groupby를 사용해 '기간 시작일'과 '티커'로 그룹화 후 한 번에 계산\n",
    "annual_volatility = (\n",
    "    df.groupby(['period_start_date', '티커'])['로그수익률']\n",
    "    .std()\n",
    "    * np.sqrt(252)\n",
    ")\n",
    "\n",
    "print(\"계산 완료.\")\n",
    "\n",
    "# --- 최종 결과 확인 ---\n",
    "results_df = annual_volatility.reset_index()\n",
    "results_df.rename(columns={'로그수익률': '연간변동성'}, inplace=True)\n",
    "results_df.rename(columns={'period_start_date': '시작일'}, inplace=True)\n",
    "\n",
    "# 시작일에 1년을 더해 종료일 생성 (표시 목적)\n",
    "results_df['종료일'] = results_df['시작일'].apply(\n",
    "    lambda date: pd.to_datetime(f'{date.year + 1}-04-01') + pd.offsets.BMonthEnd()\n",
    ")\n",
    "\n",
    "results_df = results_df[['시작일', '종료일', '티커', '연간변동성']]"
   ]
  },
  {
   "cell_type": "code",
   "execution_count": null,
   "id": "55557b65",
   "metadata": {},
   "outputs": [],
   "source": [
    "results_df['회계년도'] = results_df['시작일'].dt.year\n",
    "results_df.drop(columns=['시작일', '종료일'], inplace=True)\n",
    "results_df.sort_values(by=['티커', '회계년도'], inplace=True)"
   ]
  },
  {
   "cell_type": "markdown",
   "id": "e508f354",
   "metadata": {},
   "source": [
    "## 04. 데이터 저장"
   ]
  },
  {
   "cell_type": "code",
   "execution_count": null,
   "id": "c78a908d",
   "metadata": {},
   "outputs": [],
   "source": [
    "results_df.to_excel(\"data/krx/연간변동성.xlsx\", index=False)"
   ]
  },
  {
   "cell_type": "code",
   "execution_count": null,
   "id": "fa5c83b4",
   "metadata": {},
   "outputs": [],
   "source": []
  }
 ],
 "metadata": {
  "kernelspec": {
   "display_name": "Python 3",
   "language": "python",
   "name": "python3"
  },
  "language_info": {
   "codemirror_mode": {
    "name": "ipython",
    "version": 3
   },
   "file_extension": ".py",
   "mimetype": "text/x-python",
   "name": "python",
   "nbconvert_exporter": "python",
   "pygments_lexer": "ipython3",
   "version": "3.11.2"
  }
 },
 "nbformat": 4,
 "nbformat_minor": 5
}
