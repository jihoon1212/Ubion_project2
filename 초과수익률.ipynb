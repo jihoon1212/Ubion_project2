{
 "cells": [
  {
   "cell_type": "markdown",
   "id": "9fdbf155",
   "metadata": {},
   "source": [
    "## 01. 라이브러리 로드"
   ]
  },
  {
   "cell_type": "code",
   "execution_count": 164,
   "id": "9926091e",
   "metadata": {},
   "outputs": [],
   "source": [
    "import pandas as pd\n",
    "import numpy as np"
   ]
  },
  {
   "cell_type": "markdown",
   "id": "f0fe627a",
   "metadata": {},
   "source": [
    "## 02. 데이터 로드 및 컬럼 삭제"
   ]
  },
  {
   "cell_type": "code",
   "execution_count": 165,
   "id": "5d71ddf6",
   "metadata": {},
   "outputs": [],
   "source": [
    "df = pd.read_excel(\"data/krx/daily_close_2011_2024_04.xlsx\")\n",
    "df.drop(columns=['Unnamed: 0','날짜'], inplace=True)"
   ]
  },
  {
   "cell_type": "markdown",
   "id": "a4a8b459",
   "metadata": {},
   "source": [
    "## 03. 초과수익률 계산\n",
    "- 수익률(%) : 거래소코드별 계산\n",
    "- 코스피_코스닥_수익률 데이터 로드, 컬럼명 재정의 후 결합\n",
    "- 코스피상장종목, 코스닥상장종목 데이터 로드, 컬럼명 재정의\n",
    "- 초과수익률 계산 (calculate_excess_return_final 함수 사용)"
   ]
  },
  {
   "cell_type": "code",
   "execution_count": 166,
   "id": "a5579165",
   "metadata": {},
   "outputs": [],
   "source": [
    "pct_result = df.groupby('거래소코드')['수정종가'].pct_change()\n",
    "df['수익률(%)'] = pct_result.groupby(df['거래소코드']).shift(-1) * 100\n",
    "df_return = df.sort_values(by=['거래소코드', '회계년도'])"
   ]
  },
  {
   "cell_type": "markdown",
   "id": "86b8cb22",
   "metadata": {},
   "source": [
    "#### 코스피_코스닥 수익률 데이터 로드"
   ]
  },
  {
   "cell_type": "code",
   "execution_count": 167,
   "id": "30c2ca28",
   "metadata": {},
   "outputs": [],
   "source": [
    "kospi_kosdaq = pd.read_excel('data/krx/코스피_코스닥_수익률_4월.xlsx')\n",
    "kospi_kosdaq.rename(columns={'연도': '회계년도', 'KOSPI 수익률 (%)': '코스피수익률', 'KOSDAQ 수익률 (%)': '코스닥수익률'}, inplace=True)"
   ]
  },
  {
   "cell_type": "markdown",
   "id": "c3530b61",
   "metadata": {},
   "source": [
    "#### 데이터 병합 - 수익률 df와 코스피_코스닥 수익률 df"
   ]
  },
  {
   "cell_type": "code",
   "execution_count": 168,
   "id": "0f404166",
   "metadata": {},
   "outputs": [],
   "source": [
    "df_merged_kk = pd.merge(df_return, kospi_kosdaq, on=['회계년도'], how='left')"
   ]
  },
  {
   "cell_type": "markdown",
   "id": "782b56f9",
   "metadata": {},
   "source": [
    "#### 코스피, 코스당 상장종목 데이터 로드"
   ]
  },
  {
   "cell_type": "code",
   "execution_count": 169,
   "id": "496ca0e6",
   "metadata": {},
   "outputs": [],
   "source": [
    "kospi_list = pd.read_excel('data/krx/코스피상장종목.xlsx')\n",
    "kosdaq_list = pd.read_excel('data/krx/코스닥상장종목.xlsx')"
   ]
  },
  {
   "cell_type": "markdown",
   "id": "49fb1395",
   "metadata": {},
   "source": [
    "#### 컬럼명 재정의 및 소속코드 컬럼 제거"
   ]
  },
  {
   "cell_type": "code",
   "execution_count": 170,
   "id": "59f1f680",
   "metadata": {},
   "outputs": [],
   "source": [
    "kospi_list['거래소코드'] = kospi_list['거래소코드'].astype(str).str.zfill(6)\n",
    "kospi_list['회계년도'] = kospi_list['회계년도'].str.split('/').str[0].astype(int)\n",
    "\n",
    "kosdaq_list['거래소코드'] = kosdaq_list['거래소코드'].astype(str).str.zfill(6)\n",
    "kosdaq_list['회계년도'] = kosdaq_list['회계년도'].str.split('/').str[0].astype(int)\n",
    "\n",
    "kospi_list.drop(columns=['소속코드'], inplace=True)\n",
    "kosdaq_list.drop(columns=['소속코드'], inplace=True)"
   ]
  },
  {
   "cell_type": "markdown",
   "id": "8c8479b9",
   "metadata": {},
   "source": [
    "#### kospi_list와 df_merged_kk 병합\n",
    "- 소속코드 = 1 -> 코스피\n",
    "- 수정종가, 수익률(%), 코스피수익률, 코스닥수익률 컬럼 제거"
   ]
  },
  {
   "cell_type": "code",
   "execution_count": 171,
   "id": "d2a7778a",
   "metadata": {},
   "outputs": [],
   "source": [
    "merged_kospi = pd.merge(kospi_list, df_merged_kk, on=['회계년도', '거래소코드'], how='left')\n",
    "merged_kospi['소속코드'] = 1\n",
    "merged_kospi.drop(columns=['수정종가', '코스피수익률', '코스닥수익률'], inplace=True)"
   ]
  },
  {
   "cell_type": "markdown",
   "id": "8421e8ed",
   "metadata": {},
   "source": [
    "#### kosdaq_list와 df_merged_kk 병합\n",
    "- 수정종가, 수익률(%), 코스피수익률, 코스닥수익률 컬럼 제거"
   ]
  },
  {
   "cell_type": "code",
   "execution_count": 172,
   "id": "4d02746b",
   "metadata": {},
   "outputs": [],
   "source": [
    "merged_kosdaq = pd.merge(kosdaq_list, df_merged_kk, on=['회계년도', '거래소코드'], how='left')\n",
    "merged_kosdaq.drop(columns=['수정종가', '코스피수익률', '코스닥수익률'], inplace=True)"
   ]
  },
  {
   "cell_type": "markdown",
   "id": "1aca2c28",
   "metadata": {},
   "source": [
    "#### merged_kk에 merged_kospi, merged_kosdaq 병합\n",
    "- 회사명 컬럼 결측치 채우기\n",
    "- 회사명x, 회사명y 컬럼 제거\n",
    "- 소속코드 결측치 채우기"
   ]
  },
  {
   "cell_type": "code",
   "execution_count": 175,
   "id": "0450fae8",
   "metadata": {},
   "outputs": [
    {
     "name": "stderr",
     "output_type": "stream",
     "text": [
      "C:\\Users\\tmddn\\AppData\\Local\\Temp\\ipykernel_17520\\2118040445.py:7: FutureWarning: A value is trying to be set on a copy of a DataFrame or Series through chained assignment using an inplace method.\n",
      "The behavior will change in pandas 3.0. This inplace method will never work because the intermediate object on which we are setting values always behaves as a copy.\n",
      "\n",
      "For example, when doing 'df[col].method(value, inplace=True)', try using 'df.method({col: value}, inplace=True)' or df[col] = df[col].method(value) instead, to perform the operation inplace on the original object.\n",
      "\n",
      "\n",
      "  merged_2['소속코드'].fillna(5, inplace=True)\n"
     ]
    }
   ],
   "source": [
    "merged_1 = pd.merge(df_merged_kk, merged_kospi, on=['회계년도', '거래소코드'], how='left')\n",
    "merged_2 = pd.merge(merged_1, merged_kosdaq, on=['회계년도', '거래소코드'], how='left')\n",
    "merged_2['회사명'] = merged_2['회사명_x'].fillna(merged_2['회사명_y'])\n",
    "merged_2['수익률(%)'] = merged_2['수익률(%)_x'].fillna(merged_2['수익률(%)_y'])\n",
    "merged_2.drop(columns=['회사명_x', '회사명_y'], inplace=True)\n",
    "merged_2.drop(columns=['수익률(%)_x', '수익률(%)_y'], inplace=True)\n",
    "merged_2['소속코드'].fillna(5, inplace=True)"
   ]
  },
  {
   "cell_type": "markdown",
   "id": "93f4471e",
   "metadata": {},
   "source": [
    "#### merged_kk 수익률(%), 회사명 컬럼 결측치 제거"
   ]
  },
  {
   "cell_type": "code",
   "execution_count": 178,
   "id": "c1856b22",
   "metadata": {},
   "outputs": [],
   "source": [
    "merged_2 = merged_2[merged_2['수익률(%)'].notna()]\n",
    "merged_2 = merged_2[merged_2['회사명'].notna()]"
   ]
  },
  {
   "cell_type": "markdown",
   "id": "ae7e40e2",
   "metadata": {},
   "source": [
    "#### 초과수익률 계산 함수 정의\n",
    "- 소속코드 : 5 -> 코스닥, 소속코드 : 1 -> 코스피"
   ]
  },
  {
   "cell_type": "code",
   "execution_count": 180,
   "id": "32178794",
   "metadata": {},
   "outputs": [],
   "source": [
    "def calculate_excess_return_final(row):\n",
    "    if row['소속코드'] == 5:  # 코스닥\n",
    "        return row['수익률(%)'] - row['코스닥수익률']\n",
    "    elif row['소속코드'] == 1:  # 코스피\n",
    "        return row['수익률(%)'] - row['코스피수익률']\n",
    "    return None \n",
    "\n",
    "merged_2['초과수익률'] = merged_2.apply(calculate_excess_return_final, axis=1)"
   ]
  },
  {
   "cell_type": "markdown",
   "id": "73d0ffe6",
   "metadata": {},
   "source": [
    "## 05. 데이터저장\n",
    "- 초과수익률 컬럼 결측치 제거"
   ]
  },
  {
   "cell_type": "code",
   "execution_count": 182,
   "id": "3260d21d",
   "metadata": {},
   "outputs": [],
   "source": [
    "merged_2 = merged_2[merged_2['초과수익률'].notna()]\n",
    "df_final = merged_2[['회사명', '거래소코드', '회계년도', '수정종가', '초과수익률', '수익률(%)']].copy()\n",
    "df_final = df_final.sort_values(by=['회사명', '회계년도'])\n",
    "df_final.to_excel('data/krx/초과수익률.xlsx', index=False)"
   ]
  },
  {
   "cell_type": "code",
   "execution_count": null,
   "id": "175e40c5",
   "metadata": {},
   "outputs": [],
   "source": []
  }
 ],
 "metadata": {
  "kernelspec": {
   "display_name": "Python 3",
   "language": "python",
   "name": "python3"
  },
  "language_info": {
   "codemirror_mode": {
    "name": "ipython",
    "version": 3
   },
   "file_extension": ".py",
   "mimetype": "text/x-python",
   "name": "python",
   "nbconvert_exporter": "python",
   "pygments_lexer": "ipython3",
   "version": "3.11.2"
  }
 },
 "nbformat": 4,
 "nbformat_minor": 5
}
